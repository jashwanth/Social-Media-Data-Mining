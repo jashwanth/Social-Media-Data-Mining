{
 "cells": [
  {
   "cell_type": "markdown",
   "metadata": {},
   "source": [
    "# Introduction to Python\n",
    "## with Jupyter\n",
    "### and the Anaconda distro"
   ]
  },
  {
   "cell_type": "code",
   "execution_count": 1,
   "metadata": {},
   "outputs": [
    {
     "data": {
      "image/jpeg": "[encoded data removed]",
      "text/html": [
       "\n",
       "        <iframe\n",
       "            width=\"400\"\n",
       "            height=\"300\"\n",
       "            src=\"https://www.youtube.com/embed/2tkZ0u6Q-QM\"\n",
       "            frameborder=\"0\"\n",
       "            allowfullscreen\n",
       "        ></iframe>\n",
       "        "
      ],
      "text/plain": [
       "<IPython.lib.display.YouTubeVideo at 0x10b157198>"
      ]
     },
     "execution_count": 1,
     "metadata": {},
     "output_type": "execute_result"
    }
   ],
   "source": [
    "from IPython.display import YouTubeVideo\n",
    "YouTubeVideo('2tkZ0u6Q-QM')"
   ]
  },
  {
   "cell_type": "code",
   "execution_count": 1,
   "metadata": {
    "collapsed": true
   },
   "outputs": [],
   "source": [
    "#This is a comment.\n",
    "\"\"\"This is another comment,\n",
    "and spans more than one line.\n",
    "Below, we import modules\"\"\"\n",
    "import pandas as pd\n",
    "import numpy as np\n",
    "import json\n",
    "import pickle"
   ]
  },
  {
   "cell_type": "markdown",
   "metadata": {},
   "source": [
    "## Keywords"
   ]
  },
  {
   "cell_type": "code",
   "execution_count": 4,
   "metadata": {},
   "outputs": [
    {
     "data": {
      "text/plain": [
       "['False',\n",
       " 'None',\n",
       " 'True',\n",
       " 'and',\n",
       " 'as',\n",
       " 'assert',\n",
       " 'break',\n",
       " 'class',\n",
       " 'continue',\n",
       " 'def',\n",
       " 'del',\n",
       " 'elif',\n",
       " 'else',\n",
       " 'except',\n",
       " 'finally',\n",
       " 'for',\n",
       " 'from',\n",
       " 'global',\n",
       " 'if',\n",
       " 'import',\n",
       " 'in',\n",
       " 'is',\n",
       " 'lambda',\n",
       " 'nonlocal',\n",
       " 'not',\n",
       " 'or',\n",
       " 'pass',\n",
       " 'raise',\n",
       " 'return',\n",
       " 'try',\n",
       " 'while',\n",
       " 'with',\n",
       " 'yield']"
      ]
     },
     "execution_count": 4,
     "metadata": {},
     "output_type": "execute_result"
    }
   ],
   "source": [
    "import keyword\n",
    "keyword.kwlist"
   ]
  },
  {
   "cell_type": "markdown",
   "metadata": {},
   "source": [
    "## Built-ins"
   ]
  },
  {
   "cell_type": "code",
   "execution_count": 3,
   "metadata": {},
   "outputs": [
    {
     "name": "stdout",
     "output_type": "stream",
     "text": [
      "Help on _Helper in module _sitebuiltins object:\n",
      "\n",
      "class _Helper(builtins.object)\n",
      " |  Define the builtin 'help'.\n",
      " |  \n",
      " |  This is a wrapper around pydoc.help that provides a helpful message\n",
      " |  when 'help' is typed at the Python interactive prompt.\n",
      " |  \n",
      " |  Calling help() at the Python prompt starts an interactive help session.\n",
      " |  Calling help(thing) prints help for the python object 'thing'.\n",
      " |  \n",
      " |  Methods defined here:\n",
      " |  \n",
      " |  __call__(self, *args, **kwds)\n",
      " |      Call self as a function.\n",
      " |  \n",
      " |  __repr__(self)\n",
      " |      Return repr(self).\n",
      " |  \n",
      " |  ----------------------------------------------------------------------\n",
      " |  Data descriptors defined here:\n",
      " |  \n",
      " |  __dict__\n",
      " |      dictionary for instance variables (if defined)\n",
      " |  \n",
      " |  __weakref__\n",
      " |      list of weak references to the object (if defined)\n",
      "\n"
     ]
    }
   ],
   "source": [
    "help(help)"
   ]
  },
  {
   "cell_type": "code",
   "execution_count": 4,
   "metadata": {},
   "outputs": [
    {
     "data": {
      "text/plain": [
       "6"
      ]
     },
     "execution_count": 4,
     "metadata": {},
     "output_type": "execute_result"
    }
   ],
   "source": [
    "sum([1,2,3])"
   ]
  },
  {
   "cell_type": "markdown",
   "metadata": {},
   "source": [
    "### Another built-in is \"len\""
   ]
  },
  {
   "cell_type": "code",
   "execution_count": 21,
   "metadata": {},
   "outputs": [
    {
     "name": "stdout",
     "output_type": "stream",
     "text": [
      "Help on built-in function len in module builtins:\n",
      "\n",
      "len(obj, /)\n",
      "    Return the number of items in a container.\n",
      "\n"
     ]
    }
   ],
   "source": [
    "help(len)"
   ]
  },
  {
   "cell_type": "markdown",
   "metadata": {},
   "source": [
    "## Assignment"
   ]
  },
  {
   "cell_type": "code",
   "execution_count": 10,
   "metadata": {
    "collapsed": true
   },
   "outputs": [],
   "source": [
    "a = 1"
   ]
  },
  {
   "cell_type": "code",
   "execution_count": 13,
   "metadata": {
    "collapsed": true
   },
   "outputs": [],
   "source": [
    "b = 1"
   ]
  },
  {
   "cell_type": "markdown",
   "metadata": {},
   "source": [
    "### (The variables have been assigned values.)"
   ]
  },
  {
   "cell_type": "markdown",
   "metadata": {},
   "source": [
    "### Testing equality"
   ]
  },
  {
   "cell_type": "code",
   "execution_count": null,
   "metadata": {
    "collapsed": true
   },
   "outputs": [],
   "source": [
    "(a is b, a == b)"
   ]
  },
  {
   "cell_type": "code",
   "execution_count": null,
   "metadata": {
    "collapsed": true
   },
   "outputs": [],
   "source": [
    "# Here are two lists.\n",
    "a = [1,2]\n",
    "b = [1,2]"
   ]
  },
  {
   "cell_type": "code",
   "execution_count": null,
   "metadata": {
    "collapsed": true
   },
   "outputs": [],
   "source": [
    "(a is b, a == b)"
   ]
  },
  {
   "cell_type": "markdown",
   "metadata": {},
   "source": [
    "### Multiple assignment\n"
   ]
  },
  {
   "cell_type": "code",
   "execution_count": null,
   "metadata": {
    "collapsed": true
   },
   "outputs": [],
   "source": [
    "a,b = 'a', 5\n",
    "print(a,b)"
   ]
  },
  {
   "cell_type": "markdown",
   "metadata": {},
   "source": [
    "### (different from assignment of tuple objects)"
   ]
  },
  {
   "cell_type": "code",
   "execution_count": null,
   "metadata": {
    "collapsed": true
   },
   "outputs": [],
   "source": [
    "c = ('a',5)\n",
    "c"
   ]
  },
  {
   "cell_type": "markdown",
   "metadata": {},
   "source": [
    "### (Remark: assignment in Python can be thought of as a \"tag\" on an object rather than a labelled bucket into which an object is placed.)"
   ]
  },
  {
   "cell_type": "markdown",
   "metadata": {},
   "source": [
    "## Artithmetic"
   ]
  },
  {
   "cell_type": "code",
   "execution_count": null,
   "metadata": {
    "collapsed": true
   },
   "outputs": [],
   "source": [
    "(12 + 5, 11 - 2, 11 % 4, 1 / 3, 2 ** 3, 2 * 3)"
   ]
  },
  {
   "cell_type": "markdown",
   "metadata": {},
   "source": [
    "### The plus sign + is also used for concatenation."
   ]
  },
  {
   "cell_type": "code",
   "execution_count": null,
   "metadata": {
    "collapsed": true
   },
   "outputs": [],
   "source": [
    "# Two strings\n",
    "string1 = 'first string'\n",
    "string2 = 'second string'\n",
    "string1 + string2"
   ]
  },
  {
   "cell_type": "code",
   "execution_count": null,
   "metadata": {
    "collapsed": true
   },
   "outputs": [],
   "source": [
    "# Two lists\n",
    "list1 = ['a','b','cat']\n",
    "list2 = ['dog',3,'bird']\n",
    "list1 + list2"
   ]
  },
  {
   "cell_type": "code",
   "execution_count": null,
   "metadata": {
    "collapsed": true
   },
   "outputs": [],
   "source": []
  },
  {
   "cell_type": "markdown",
   "metadata": {},
   "source": [
    "## Logic & Control Flow"
   ]
  },
  {
   "cell_type": "markdown",
   "metadata": {},
   "source": [
    "### We already saw how to test equality (in two different senses)."
   ]
  },
  {
   "cell_type": "markdown",
   "metadata": {},
   "source": [
    "### Here is a for loop"
   ]
  },
  {
   "cell_type": "code",
   "execution_count": null,
   "metadata": {
    "collapsed": true
   },
   "outputs": [],
   "source": [
    "for x in range(10):\n",
    "    print(x - 1)"
   ]
  },
  {
   "cell_type": "markdown",
   "metadata": {},
   "source": [
    "### Here is \"FizzBuzz\""
   ]
  },
  {
   "cell_type": "code",
   "execution_count": 2,
   "metadata": {},
   "outputs": [
    {
     "name": "stdout",
     "output_type": "stream",
     "text": [
      "FizzBuzz\n",
      "1\n",
      "2\n",
      "Fizz\n",
      "4\n",
      "Buzz\n",
      "Fizz\n",
      "7\n",
      "8\n",
      "Fizz\n",
      "Buzz\n",
      "11\n",
      "Fizz\n",
      "13\n",
      "14\n",
      "FizzBuzz\n",
      "16\n",
      "17\n",
      "Fizz\n",
      "19\n",
      "Buzz\n",
      "Fizz\n",
      "22\n",
      "23\n",
      "Fizz\n",
      "Buzz\n",
      "26\n",
      "Fizz\n",
      "28\n",
      "29\n",
      "FizzBuzz\n",
      "31\n",
      "32\n",
      "Fizz\n",
      "34\n",
      "Buzz\n",
      "Fizz\n",
      "37\n",
      "38\n",
      "Fizz\n",
      "Buzz\n",
      "41\n",
      "Fizz\n",
      "43\n",
      "44\n",
      "FizzBuzz\n",
      "46\n",
      "47\n",
      "Fizz\n",
      "49\n",
      "Buzz\n",
      "Fizz\n",
      "52\n",
      "53\n",
      "Fizz\n",
      "Buzz\n",
      "56\n",
      "Fizz\n",
      "58\n",
      "59\n",
      "FizzBuzz\n",
      "61\n",
      "62\n",
      "Fizz\n",
      "64\n",
      "Buzz\n",
      "Fizz\n",
      "67\n",
      "68\n",
      "Fizz\n",
      "Buzz\n",
      "71\n",
      "Fizz\n",
      "73\n",
      "74\n",
      "FizzBuzz\n",
      "76\n",
      "77\n",
      "Fizz\n",
      "79\n",
      "Buzz\n",
      "Fizz\n",
      "82\n",
      "83\n",
      "Fizz\n",
      "Buzz\n",
      "86\n",
      "Fizz\n",
      "88\n",
      "89\n",
      "FizzBuzz\n",
      "91\n",
      "92\n",
      "Fizz\n",
      "94\n",
      "Buzz\n",
      "Fizz\n",
      "97\n",
      "98\n",
      "Fizz\n"
     ]
    }
   ],
   "source": [
    "for n in range(100):\n",
    "    if n % 3 == 0 and n % 5 == 0:\n",
    "        print('FizzBuzz')\n",
    "    elif n % 3 == 0:\n",
    "        print('Fizz')\n",
    "    elif n % 5 == 0:\n",
    "        print('Buzz')\n",
    "    else:\n",
    "        print(str(n))"
   ]
  },
  {
   "cell_type": "markdown",
   "metadata": {},
   "source": [
    "### ...with a while loop"
   ]
  },
  {
   "cell_type": "code",
   "execution_count": null,
   "metadata": {
    "collapsed": true
   },
   "outputs": [],
   "source": [
    "n = 0\n",
    "while n < 100:\n",
    "    if n % 3 == 0 and n % 5 == 0:\n",
    "        print('FizzBuzz')\n",
    "    elif n % 3 == 0:\n",
    "        print('Fizz')\n",
    "    elif n % 5 == 0:\n",
    "        print('Buzz')\n",
    "    else:\n",
    "        print(str(n))\n",
    "    n += 1"
   ]
  },
  {
   "cell_type": "markdown",
   "metadata": {},
   "source": [
    "## Exceptions & the like"
   ]
  },
  {
   "cell_type": "markdown",
   "metadata": {},
   "source": [
    "### In a function or within a loop you will want to handle errors and special cases."
   ]
  },
  {
   "cell_type": "code",
   "execution_count": null,
   "metadata": {
    "collapsed": true
   },
   "outputs": [],
   "source": [
    "# Here is an example of an exception"
   ]
  },
  {
   "cell_type": "code",
   "execution_count": 32,
   "metadata": {
    "collapsed": true
   },
   "outputs": [],
   "source": [
    "mixed_list = [1,2,3,'a',('b','c'),4,8, 17.5]"
   ]
  },
  {
   "cell_type": "code",
   "execution_count": null,
   "metadata": {
    "collapsed": true
   },
   "outputs": [],
   "source": [
    "for n in mixed_list:\n",
    "    try:\n",
    "        x = n / 2\n",
    "        print(x)\n",
    "    except TypeError:\n",
    "        print('Whoops! That is not a numeric.')\n",
    "        "
   ]
  },
  {
   "cell_type": "code",
   "execution_count": null,
   "metadata": {
    "collapsed": true
   },
   "outputs": [],
   "source": [
    "# Here is an example of a break."
   ]
  },
  {
   "cell_type": "code",
   "execution_count": null,
   "metadata": {
    "collapsed": true
   },
   "outputs": [],
   "source": [
    "n=1\n",
    "while n < 100:\n",
    "    if n == 88:\n",
    "        break\n",
    "    else:\n",
    "        print(n)\n",
    "    n += 1"
   ]
  },
  {
   "cell_type": "markdown",
   "metadata": {},
   "source": [
    "## Functions"
   ]
  },
  {
   "cell_type": "code",
   "execution_count": 17,
   "metadata": {
    "collapsed": true
   },
   "outputs": [],
   "source": [
    "def very_simple_function(x):\n",
    "    return x**2"
   ]
  },
  {
   "cell_type": "code",
   "execution_count": 18,
   "metadata": {
    "collapsed": true
   },
   "outputs": [],
   "source": [
    "def another_function(x,y):\n",
    "    z = x + y\n",
    "    return z"
   ]
  },
  {
   "cell_type": "markdown",
   "metadata": {},
   "source": [
    "### Functions can be composed."
   ]
  },
  {
   "cell_type": "code",
   "execution_count": null,
   "metadata": {
    "collapsed": true
   },
   "outputs": [],
   "source": [
    "another_function(very_simple_function(2),3)"
   ]
  },
  {
   "cell_type": "markdown",
   "metadata": {},
   "source": [
    "### Functions with lambda"
   ]
  },
  {
   "cell_type": "code",
   "execution_count": null,
   "metadata": {
    "collapsed": true
   },
   "outputs": [],
   "source": [
    "pcws = lambda x: 0 if x < 0 else x"
   ]
  },
  {
   "cell_type": "code",
   "execution_count": null,
   "metadata": {
    "collapsed": true
   },
   "outputs": [],
   "source": [
    "pcws(-10)"
   ]
  },
  {
   "cell_type": "markdown",
   "metadata": {},
   "source": [
    "### Functions returning functions"
   ]
  },
  {
   "cell_type": "code",
   "execution_count": 19,
   "metadata": {
    "collapsed": true
   },
   "outputs": [],
   "source": [
    "def meta_func(k):\n",
    "    def scale_by_k(x):\n",
    "        return k*x\n",
    "    return scale_by_k"
   ]
  },
  {
   "cell_type": "code",
   "execution_count": 6,
   "metadata": {},
   "outputs": [
    {
     "data": {
      "text/plain": [
       "15.707963267948966"
      ]
     },
     "execution_count": 6,
     "metadata": {},
     "output_type": "execute_result"
    }
   ],
   "source": [
    "one_such_func = meta_func(5)\n",
    "one_such_func(np.pi)"
   ]
  },
  {
   "cell_type": "markdown",
   "metadata": {},
   "source": [
    "## Classes & Structures"
   ]
  },
  {
   "cell_type": "markdown",
   "metadata": {},
   "source": [
    "### Strings"
   ]
  },
  {
   "cell_type": "code",
   "execution_count": 7,
   "metadata": {},
   "outputs": [
    {
     "data": {
      "text/plain": [
       "'lo,'"
      ]
     },
     "execution_count": 7,
     "metadata": {},
     "output_type": "execute_result"
    }
   ],
   "source": [
    "# Here is a string.\n",
    "martins_string = \"Hello, how are you today?\"\n",
    "\n",
    "# We can look at a slice of it\n",
    "martins_string[3:6]"
   ]
  },
  {
   "cell_type": "code",
   "execution_count": 8,
   "metadata": {},
   "outputs": [
    {
     "ename": "TypeError",
     "evalue": "'str' object does not support item assignment",
     "output_type": "error",
     "traceback": [
      "\u001b[0;31m---------------------------------------------------------------------------\u001b[0m",
      "\u001b[0;31mTypeError\u001b[0m                                 Traceback (most recent call last)",
      "\u001b[0;32m<ipython-input-8-810f3605d4d6>\u001b[0m in \u001b[0;36m<module>\u001b[0;34m()\u001b[0m\n\u001b[1;32m      1\u001b[0m \u001b[0;31m# But strings are immutable\u001b[0m\u001b[0;34m\u001b[0m\u001b[0;34m\u001b[0m\u001b[0m\n\u001b[0;32m----> 2\u001b[0;31m \u001b[0mmartins_string\u001b[0m\u001b[0;34m[\u001b[0m\u001b[0;36m4\u001b[0m\u001b[0;34m]\u001b[0m \u001b[0;34m=\u001b[0m \u001b[0;34m'a'\u001b[0m\u001b[0;34m\u001b[0m\u001b[0m\n\u001b[0m",
      "\u001b[0;31mTypeError\u001b[0m: 'str' object does not support item assignment"
     ]
    }
   ],
   "source": [
    "# But strings are immutable\n",
    "martins_string[4] = 'a'"
   ]
  },
  {
   "cell_type": "code",
   "execution_count": 9,
   "metadata": {},
   "outputs": [
    {
     "name": "stdout",
     "output_type": "stream",
     "text": [
      "['Hello,', 'how', 'are', 'you', 'today?'] ['Hello', ' how are you today?']\n"
     ]
    }
   ],
   "source": [
    "# But lists are mutable.\n",
    "martins_list = martins_string.split()\n",
    "martins_other_list = martins_string.split(',')\n",
    "print(martins_list,martins_other_list)"
   ]
  },
  {
   "cell_type": "markdown",
   "metadata": {},
   "source": [
    "### Lists"
   ]
  },
  {
   "cell_type": "code",
   "execution_count": 19,
   "metadata": {
    "collapsed": true
   },
   "outputs": [],
   "source": [
    "numbers = [3,1,1,8,2342,-23,5,6,7,'eight','four',9,7,11,111,3,23,55,66,54,43,34]"
   ]
  },
  {
   "cell_type": "code",
   "execution_count": null,
   "metadata": {
    "collapsed": true
   },
   "outputs": [],
   "source": [
    "numbers[0]"
   ]
  },
  {
   "cell_type": "code",
   "execution_count": null,
   "metadata": {
    "collapsed": true
   },
   "outputs": [],
   "source": [
    "numbers[-1]"
   ]
  },
  {
   "cell_type": "code",
   "execution_count": null,
   "metadata": {
    "collapsed": true
   },
   "outputs": [],
   "source": [
    "numbers.extend(['one','three'])"
   ]
  },
  {
   "cell_type": "code",
   "execution_count": 11,
   "metadata": {
    "collapsed": true
   },
   "outputs": [],
   "source": [
    "numbers.insert(4,9)"
   ]
  },
  {
   "cell_type": "code",
   "execution_count": null,
   "metadata": {
    "collapsed": true
   },
   "outputs": [],
   "source": [
    "numbers.pop()"
   ]
  },
  {
   "cell_type": "code",
   "execution_count": null,
   "metadata": {
    "collapsed": true
   },
   "outputs": [],
   "source": [
    "numbers.remove(-23)"
   ]
  },
  {
   "cell_type": "code",
   "execution_count": null,
   "metadata": {
    "collapsed": true
   },
   "outputs": [],
   "source": [
    "numbers.index(8)"
   ]
  },
  {
   "cell_type": "code",
   "execution_count": null,
   "metadata": {
    "collapsed": true
   },
   "outputs": [],
   "source": [
    "numbers.count(1)"
   ]
  },
  {
   "cell_type": "code",
   "execution_count": null,
   "metadata": {
    "collapsed": true
   },
   "outputs": [],
   "source": [
    "numbers.reverse()\n",
    "numbers"
   ]
  },
  {
   "cell_type": "code",
   "execution_count": null,
   "metadata": {
    "collapsed": true
   },
   "outputs": [],
   "source": [
    "numbers.sort()\n",
    "numbers"
   ]
  },
  {
   "cell_type": "code",
   "execution_count": null,
   "metadata": {
    "collapsed": true
   },
   "outputs": [],
   "source": [
    "numbers"
   ]
  },
  {
   "cell_type": "code",
   "execution_count": 14,
   "metadata": {
    "collapsed": true
   },
   "outputs": [],
   "source": [
    "a = numbers\n",
    "b = numbers[:]\n",
    "c = numbers.copy()"
   ]
  },
  {
   "cell_type": "code",
   "execution_count": 15,
   "metadata": {},
   "outputs": [
    {
     "data": {
      "text/plain": [
       "34"
      ]
     },
     "execution_count": 15,
     "metadata": {},
     "output_type": "execute_result"
    }
   ],
   "source": [
    "numbers.pop()"
   ]
  },
  {
   "cell_type": "code",
   "execution_count": 17,
   "metadata": {},
   "outputs": [
    {
     "name": "stdout",
     "output_type": "stream",
     "text": [
      "[3, 1, 1, 8, 2342, -23, 5, 6, 7, 'eight', 'four', 9, 7, 11, 111, 3, 23, 55, 66, 54, 43] \n",
      " [3, 1, 1, 8, 2342, -23, 5, 6, 7, 'eight', 'four', 9, 7, 11, 111, 3, 23, 55, 66, 54, 43, 34] \n",
      " [3, 1, 1, 8, 2342, -23, 5, 6, 7, 'eight', 'four', 9, 7, 11, 111, 3, 23, 55, 66, 54, 43, 34]\n"
     ]
    }
   ],
   "source": [
    "print(a,'\\n',b, '\\n',c)"
   ]
  },
  {
   "cell_type": "markdown",
   "metadata": {},
   "source": [
    "#### Slicing is very useful."
   ]
  },
  {
   "cell_type": "code",
   "execution_count": 20,
   "metadata": {},
   "outputs": [
    {
     "data": {
      "text/plain": [
       "['four', 7, 5, 2342]"
      ]
     },
     "execution_count": 20,
     "metadata": {},
     "output_type": "execute_result"
    }
   ],
   "source": [
    "numbers[10:3:-2]"
   ]
  },
  {
   "cell_type": "markdown",
   "metadata": {},
   "source": [
    "### Dictionaries"
   ]
  },
  {
   "cell_type": "code",
   "execution_count": 29,
   "metadata": {},
   "outputs": [
    {
     "data": {
      "text/plain": [
       "5"
      ]
     },
     "execution_count": 29,
     "metadata": {},
     "output_type": "execute_result"
    }
   ],
   "source": [
    "simple_dict = {'banana':5, 'orange':\"fruit\", 'python':np.pi}\n",
    "simple_dict['banana']"
   ]
  },
  {
   "cell_type": "code",
   "execution_count": 30,
   "metadata": {},
   "outputs": [
    {
     "data": {
      "text/plain": [
       "3.141592653589793"
      ]
     },
     "execution_count": 30,
     "metadata": {},
     "output_type": "execute_result"
    }
   ],
   "source": [
    "simple_dict['python']"
   ]
  },
  {
   "cell_type": "code",
   "execution_count": 32,
   "metadata": {},
   "outputs": [
    {
     "data": {
      "text/plain": [
       "dict_values([5, 'fruit', 45])"
      ]
     },
     "execution_count": 32,
     "metadata": {},
     "output_type": "execute_result"
    }
   ],
   "source": [
    "simple_dict['python'] = 45\n",
    "simple_dict.values()"
   ]
  },
  {
   "cell_type": "code",
   "execution_count": 34,
   "metadata": {},
   "outputs": [
    {
     "data": {
      "text/plain": [
       "{'banana': 5, 'new key': 0, 'orange': 'fruit', 'python': 45}"
      ]
     },
     "execution_count": 34,
     "metadata": {},
     "output_type": "execute_result"
    }
   ],
   "source": [
    "simple_dict['new key'] = 0\n",
    "simple_dict"
   ]
  },
  {
   "cell_type": "code",
   "execution_count": 35,
   "metadata": {},
   "outputs": [
    {
     "data": {
      "text/plain": [
       "dict_keys(['banana', 'orange', 'python', 'new key'])"
      ]
     },
     "execution_count": 35,
     "metadata": {},
     "output_type": "execute_result"
    }
   ],
   "source": [
    "simple_dict.keys()"
   ]
  },
  {
   "cell_type": "markdown",
   "metadata": {},
   "source": [
    "#### (a dictionary from a pair of lists)"
   ]
  },
  {
   "cell_type": "code",
   "execution_count": 20,
   "metadata": {},
   "outputs": [
    {
     "data": {
      "text/plain": [
       "{'one': 3, 'three': <function __main__.meta_func>, 'two': 'a'}"
      ]
     },
     "execution_count": 20,
     "metadata": {},
     "output_type": "execute_result"
    }
   ],
   "source": [
    "keys = ['one','two','three']\n",
    "values = [3,'a',meta_func]\n",
    "new_dict = dict(zip(keys,values))\n",
    "new_dict"
   ]
  },
  {
   "cell_type": "code",
   "execution_count": null,
   "metadata": {
    "collapsed": true
   },
   "outputs": [],
   "source": [
    "new_dict['three'](6)(2)new_dict['three'](6)(2)"
   ]
  },
  {
   "cell_type": "markdown",
   "metadata": {},
   "source": [
    "#### (another way)"
   ]
  },
  {
   "cell_type": "code",
   "execution_count": 39,
   "metadata": {},
   "outputs": [
    {
     "data": {
      "text/plain": [
       "{'one': 3, 'three': <function __main__.meta_func>, 'two': 'a'}"
      ]
     },
     "execution_count": 39,
     "metadata": {},
     "output_type": "execute_result"
    }
   ],
   "source": [
    "key_value_pairs = [('one',3),('two', 'a'),('three',meta_func)]\n",
    "same_dict = dict(key_value_pairs)\n",
    "same_dict"
   ]
  },
  {
   "cell_type": "markdown",
   "metadata": {},
   "source": [
    "### String formatting"
   ]
  },
  {
   "cell_type": "code",
   "execution_count": null,
   "metadata": {
    "collapsed": true
   },
   "outputs": [],
   "source": [
    "welcome = \"Hello, welcome to Week %d\" %2\n",
    "welcome"
   ]
  },
  {
   "cell_type": "code",
   "execution_count": null,
   "metadata": {
    "collapsed": true
   },
   "outputs": [],
   "source": [
    "name = 'Ted'\n",
    "city = 'Syracuse'\n",
    "greeting = \"Welcome to %s, %s!\" %(city,name)\n",
    "greeting"
   ]
  },
  {
   "cell_type": "markdown",
   "metadata": {},
   "source": [
    "### Comprehensions"
   ]
  },
  {
   "cell_type": "code",
   "execution_count": null,
   "metadata": {
    "collapsed": true
   },
   "outputs": [],
   "source": [
    "just_strings = [x for x in numbers if isinstance(x,str)]\n",
    "just_strings"
   ]
  },
  {
   "cell_type": "code",
   "execution_count": 27,
   "metadata": {},
   "outputs": [
    {
     "data": {
      "text/plain": [
       "[(0, 0),\n",
       " (0, 1),\n",
       " (0, 2),\n",
       " (1, 0),\n",
       " (1, 1),\n",
       " (1, 2),\n",
       " (2, 0),\n",
       " (2, 1),\n",
       " (2, 2),\n",
       " (3, 0),\n",
       " (3, 1),\n",
       " (3, 2),\n",
       " (4, 0),\n",
       " (4, 1),\n",
       " (4, 2),\n",
       " (5, 0),\n",
       " (5, 1),\n",
       " (5, 2),\n",
       " (6, 0),\n",
       " (6, 1),\n",
       " (6, 2),\n",
       " (7, 0),\n",
       " (7, 1),\n",
       " (7, 2),\n",
       " (8, 0),\n",
       " (8, 1),\n",
       " (8, 2),\n",
       " (9, 0),\n",
       " (9, 1),\n",
       " (9, 2)]"
      ]
     },
     "execution_count": 27,
     "metadata": {},
     "output_type": "execute_result"
    }
   ],
   "source": [
    "two_D = [(x,y) for x in range(10) for y in range(3)]\n",
    "two_D"
   ]
  },
  {
   "cell_type": "markdown",
   "metadata": {},
   "source": [
    "### Instantiation"
   ]
  },
  {
   "cell_type": "code",
   "execution_count": 41,
   "metadata": {
    "collapsed": true
   },
   "outputs": [],
   "source": [
    "small_array = list()"
   ]
  },
  {
   "cell_type": "code",
   "execution_count": null,
   "metadata": {
    "collapsed": true
   },
   "outputs": [],
   "source": [
    "type(small_array)"
   ]
  },
  {
   "cell_type": "code",
   "execution_count": null,
   "metadata": {
    "collapsed": true
   },
   "outputs": [],
   "source": [
    "help(small_array)"
   ]
  },
  {
   "cell_type": "markdown",
   "metadata": {},
   "source": [
    "### Attributes"
   ]
  },
  {
   "cell_type": "code",
   "execution_count": null,
   "metadata": {
    "collapsed": true
   },
   "outputs": [],
   "source": [
    "dir(small_array)"
   ]
  },
  {
   "cell_type": "code",
   "execution_count": 49,
   "metadata": {},
   "outputs": [
    {
     "data": {
      "text/plain": [
       "\"list() -> new empty list\\nlist(iterable) -> new list initialized from iterable's items\""
      ]
     },
     "execution_count": 49,
     "metadata": {},
     "output_type": "execute_result"
    }
   ],
   "source": [
    "small_array.__doc__"
   ]
  },
  {
   "cell_type": "code",
   "execution_count": null,
   "metadata": {
    "collapsed": true
   },
   "outputs": [],
   "source": [
    "small_array"
   ]
  },
  {
   "cell_type": "markdown",
   "metadata": {},
   "source": [
    "### Methods"
   ]
  },
  {
   "cell_type": "code",
   "execution_count": 51,
   "metadata": {
    "collapsed": true
   },
   "outputs": [],
   "source": [
    "small_array.append('a')"
   ]
  },
  {
   "cell_type": "code",
   "execution_count": 53,
   "metadata": {
    "collapsed": true
   },
   "outputs": [],
   "source": [
    "small_array.insert(0,1)"
   ]
  },
  {
   "cell_type": "code",
   "execution_count": null,
   "metadata": {
    "collapsed": true
   },
   "outputs": [],
   "source": [
    "small_array"
   ]
  },
  {
   "cell_type": "code",
   "execution_count": 56,
   "metadata": {},
   "outputs": [
    {
     "name": "stdout",
     "output_type": "stream",
     "text": [
      "Help on wrapper_descriptor:\n",
      "\n",
      "__init__(self, /, *args, **kwargs)\n",
      "    Initialize self.  See help(type(self)) for accurate signature.\n",
      "\n"
     ]
    }
   ],
   "source": [
    "help(list.__init__)"
   ]
  },
  {
   "cell_type": "markdown",
   "metadata": {},
   "source": [
    "### Inheritance"
   ]
  },
  {
   "cell_type": "code",
   "execution_count": 75,
   "metadata": {
    "collapsed": true
   },
   "outputs": [],
   "source": [
    "class newList(list):\n",
    "    def length_times_two(self):\n",
    "        return 2*len(self)"
   ]
  },
  {
   "cell_type": "code",
   "execution_count": 77,
   "metadata": {},
   "outputs": [
    {
     "data": {
      "text/plain": [
       "6"
      ]
     },
     "execution_count": 77,
     "metadata": {},
     "output_type": "execute_result"
    }
   ],
   "source": [
    "myList = newList([1,2,3])\n",
    "myList.length_times_two()"
   ]
  },
  {
   "cell_type": "markdown",
   "metadata": {},
   "source": [
    "## Input/Output"
   ]
  },
  {
   "cell_type": "markdown",
   "metadata": {},
   "source": [
    "### Text files"
   ]
  },
  {
   "cell_type": "markdown",
   "metadata": {},
   "source": [
    "#### We have a file called \"text.txt\" in this directory. Let's open it and look at it."
   ]
  },
  {
   "cell_type": "code",
   "execution_count": 54,
   "metadata": {
    "collapsed": true
   },
   "outputs": [],
   "source": [
    "f = open('text.txt','r')"
   ]
  },
  {
   "cell_type": "code",
   "execution_count": 55,
   "metadata": {},
   "outputs": [
    {
     "data": {
      "text/plain": [
       "'[32] Sed ut perspiciatis, unde omnis iste natus error sit voluptatem accusantium doloremque laudantium, totam rem aperiam eaque ipsa, quae ab illo inventore veritatis et quasi architecto beatae vitae dicta sunt, explicabo. Nemo enim ipsam voluptatem, quia voluptas sit, aspernatur aut odit aut fugit, sed quia consequuntur magni dolores eos, qui ratione voluptatem sequi nesciunt, neque porro quisquam est, qui dolorem ipsum, quia dolor sit amet consectetur adipisci[ng] velit, sed quia non-numquam [do] eius modi tempora inci[di]dunt, ut labore et dolore magnam aliquam quaerat voluptatem. \\n'"
      ]
     },
     "execution_count": 55,
     "metadata": {},
     "output_type": "execute_result"
    }
   ],
   "source": [
    "f.readline()"
   ]
  },
  {
   "cell_type": "markdown",
   "metadata": {},
   "source": [
    "#### What if we do that again?"
   ]
  },
  {
   "cell_type": "code",
   "execution_count": 56,
   "metadata": {},
   "outputs": [
    {
     "data": {
      "text/plain": [
       "'Ut enim ad minima veniam, quis nostrum exercitationem ullam corporis suscipit laboriosam, nisi ut aliquid ex ea commodi consequatur? Quis autem vel eum iure reprehenderit, qui in ea voluptate velit esse, quam nihil molestiae consequatur, vel illum, qui dolorem eum fugiat, quo voluptas nulla pariatur?\\n'"
      ]
     },
     "execution_count": 56,
     "metadata": {},
     "output_type": "execute_result"
    }
   ],
   "source": [
    "f.readline()"
   ]
  },
  {
   "cell_type": "markdown",
   "metadata": {},
   "source": [
    "#### It moved!"
   ]
  },
  {
   "cell_type": "code",
   "execution_count": 57,
   "metadata": {},
   "outputs": [
    {
     "data": {
      "text/plain": [
       "0"
      ]
     },
     "execution_count": 57,
     "metadata": {},
     "output_type": "execute_result"
    }
   ],
   "source": [
    "f.seek(0)"
   ]
  },
  {
   "cell_type": "code",
   "execution_count": 58,
   "metadata": {},
   "outputs": [
    {
     "data": {
      "text/plain": [
       "'[32] Sed ut perspiciatis, unde omnis iste natus error sit voluptatem accusantium doloremque laudantium, totam rem aperiam eaque ipsa, quae ab illo inventore veritatis et quasi architecto beatae vitae dicta sunt, explicabo. Nemo enim ipsam voluptatem, quia voluptas sit, aspernatur aut odit aut fugit, sed quia consequuntur magni dolores eos, qui ratione voluptatem sequi nesciunt, neque porro quisquam est, qui dolorem ipsum, quia dolor sit amet consectetur adipisci[ng] velit, sed quia non-numquam [do] eius modi tempora inci[di]dunt, ut labore et dolore magnam aliquam quaerat voluptatem. \\n'"
      ]
     },
     "execution_count": 58,
     "metadata": {},
     "output_type": "execute_result"
    }
   ],
   "source": [
    "f.readline()"
   ]
  },
  {
   "cell_type": "markdown",
   "metadata": {},
   "source": [
    "#### There it is again. Now I want to see the whole thing."
   ]
  },
  {
   "cell_type": "code",
   "execution_count": 59,
   "metadata": {},
   "outputs": [
    {
     "data": {
      "text/plain": [
       "['Ut enim ad minima veniam, quis nostrum exercitationem ullam corporis suscipit laboriosam, nisi ut aliquid ex ea commodi consequatur? Quis autem vel eum iure reprehenderit, qui in ea voluptate velit esse, quam nihil molestiae consequatur, vel illum, qui dolorem eum fugiat, quo voluptas nulla pariatur?\\n',\n",
       " '\\n',\n",
       " '[33] At vero eos et accusamus et iusto odio dignissimos ducimus, qui blanditiis praesentium voluptatum deleniti atque corrupti, quos dolores et quas molestias excepturi sint, obcaecati cupiditate non-provident, similique sunt in culpa, qui officia deserunt mollitia animi, id est laborum et dolorum fuga. \\n',\n",
       " '\\n',\n",
       " 'Et harum quidem rerum facilis est et expedita distinctio. Nam libero tempore, cum soluta nobis est eligendi optio, cumque nihil impedit, quo minus id, quod maxime placeat, facere possimus, omnis voluptas assumenda est, omnis dolor repellendus. Temporibus autem quibusdam et aut officiis debitis aut rerum necessitatibus saepe eveniet, ut et voluptates repudiandae sint et molestiae non-recusandae. \\n',\n",
       " 'Itaque earum rerum hic tenetur a sapiente delectus, ut aut reiciendis voluptatibus maiores alias consequatur aut perferendis doloribus asperiores repellat…\\n',\n",
       " '\\n',\n",
       " 'Most people who bother with the matter at all would admit that the English language is\\n',\n",
       " 'in a bad way, but it is generally assumed that we cannot by conscious action do\\n',\n",
       " 'anything about it. Our civilization is decadent and our language — so the argument runs\\n',\n",
       " '— must inevitably share in the general collapse. It follows that any struggle against the\\n',\n",
       " 'abuse of language is a sentimental archaism, like preferring candles to electric light or\\n',\n",
       " 'hansom cabs to aeroplanes. Underneath this lies the half-conscious belief that\\n',\n",
       " 'language is a natural growth and not an instrument which we shape for our own\\n',\n",
       " 'purposes.\\n',\n",
       " 'Now, it is clear that the decline of a language must ultimately have political and\\n',\n",
       " 'economic causes: it is not due simply to the bad influence of this or that individual\\n',\n",
       " 'writer. But an effect can become a cause, reinforcing the original cause and producing\\n',\n",
       " 'the same effect in an intensified form, and so on indefinitely. A man may take to drink\\n',\n",
       " 'because he feels himself to be a failure, and then fail all the more completely because\\n',\n",
       " 'he drinks. It is rather the same thing that is happening to the English language. It\\n',\n",
       " 'becomes ugly and inaccurate because our thoughts are foolish, but the slovenliness of\\n',\n",
       " 'our language makes it easier for us to have foolish thoughts. The point is that the\\n',\n",
       " 'process is reversible. Modern English, especially written English, is full of bad habits\\n',\n",
       " 'which spread by imitation and which can be avoided if one is willing to take the\\n',\n",
       " 'necessary trouble. If one gets rid of these habits one can think more clearly, and to think\\n',\n",
       " 'clearly is a necessary first step toward political regeneration: so that the fight against\\n',\n",
       " 'bad English is not frivolous and is not the exclusive concern of professional writers. I will\\n',\n",
       " 'come back to this presently, and I hope that by that time the meaning of what I have\\n',\n",
       " 'said here will have become clearer. Meanwhile, here are five specimens of the English\\n',\n",
       " 'language as it is now habitually written.\\n',\n",
       " 'These five passages have not been picked out because they are especially bad — I\\n',\n",
       " 'could have quoted far worse if I had chosen — but because they illustrate various of the\\n',\n",
       " 'mental vices from which we now suffer. They are a little below the average, but are\\n',\n",
       " 'fairly representative examples. I number them so that I can refer back to them when\\n',\n",
       " 'necessary:\\n',\n",
       " '1. I am not, indeed, sure whether it is not true to say that the Milton who once\\n',\n",
       " 'seemed not unlike a seventeenth-century Shelley had not become, out of an\\n',\n",
       " 'experience ever more bitter in each year, more alien [sic] to the founder of that\\n',\n",
       " 'Jesuit sect which nothing could induce him to tolerate.\\n',\n",
       " 'Professor Harold Laski (Essay in Freedom of Expression)\\n',\n",
       " '2. Above all, we cannot play ducks and drakes with a native battery of idioms\\n',\n",
       " 'which prescribes egregious collocations of vocables as the Basic put up with for\\n',\n",
       " 'tolerate, or put at a loss for bewilder.\\n',\n",
       " 'Professor Lancelot Hogben (Interglossia)\\n',\n",
       " '3. On the one side we have the free personality: by definition it is not neurotic, for\\n',\n",
       " 'it has neither conflict nor dream. Its desires, such as they are, are transparent,\\n',\n",
       " 'for they are just what institutional approval keeps in the forefront of\\n',\n",
       " 'consciousness; another institutional pattern would alter their number and\\n',\n",
       " 'intensity; there is little in them that is natural, irreducible, or culturally dangerous.\\n',\n",
       " 'But on the other side, the social bond itself is nothing but the mutual reflection of\\n',\n",
       " 'these self-secure integrities. Recall the definition of love. Is not this the very\\n',\n",
       " 'picture of a small academic? Where is there a place in this hall of mirrors for\\n',\n",
       " 'either personality or fraternity?\\n',\n",
       " 'Essay on psychology in Politics (New York)\\n',\n",
       " \"4. All the ‘best people’ from the gentlemen's clubs, and all the frantic fascist\\n\",\n",
       " 'captains, united in common hatred of Socialism and bestial horror at the rising\\n',\n",
       " 'tide of the mass revolutionary movement, have turned to acts of provocation, to\\n',\n",
       " 'foul incendiarism, to medieval legends of poisoned wells, to legalize their own\\n',\n",
       " 'destruction of proletarian organizations, and rouse the agitated petty-bourgeoise\\n',\n",
       " 'to chauvinistic fervor on behalf of the fight against the revolutionary way out of\\n',\n",
       " 'the crisis.\\n',\n",
       " 'Communist pamphlet\\n',\n",
       " '5. If a new spirit is to be infused into this old country, there is one thorny and\\n',\n",
       " 'contentious reform which must be tackled, and that is the humanization and\\n',\n",
       " 'galvanization of the B.B.C. Timidity here will bespeak canker and atrophy of the\\n',\n",
       " 'soul. The heart of Britain may be sound and of strong beat, for instance, but the\\n',\n",
       " \"British lion's roar at present is like that of Bottom in Shakespeare's A Midsummer\\n\",\n",
       " \"Night's Dream — as gentle as any sucking dove. A virile new Britain cannot\\n\",\n",
       " 'continue indefinitely to be traduced in the eyes or rather ears, of the world by the\\n',\n",
       " 'effete languors of Langham Place, brazenly masquerading as ‘standard English’.\\n',\n",
       " \"When the Voice of Britain is heard at nine o'clock, better far and infinitely less\\n\",\n",
       " 'ludicrous to hear aitches honestly dropped than the present priggish, inflated,\\n',\n",
       " \"inhibited, school-ma'amish arch braying of blameless bashful mewing maidens!\\n\",\n",
       " 'Letter in Tribune\\n',\n",
       " 'Each of these passages has faults of its own, but, quite apart from avoidable\\n',\n",
       " 'ugliness, two qualities are common to all of them. The first is staleness of\\n',\n",
       " 'imagery; the other is lack of precision. The writer either has a meaning and\\n',\n",
       " 'cannot express it, or he inadvertently says something else, or he is almost\\n',\n",
       " 'indifferent as to whether his words mean anything or not. This mixture of\\n',\n",
       " 'vagueness and sheer incompetence is the most marked characteristic of modern\\n',\n",
       " 'English prose, and especially of any kind of political writing. As soon as certain\\n',\n",
       " 'topics are raised, the concrete melts into the abstract and no one seems able to\\n',\n",
       " 'think of turns of speech that are not hackneyed: prose consists less and less of\\n',\n",
       " 'wordsphrases tacked together like the sections of a prefabricated hen-house. I\\n',\n",
       " 'list below, with notes and examples, various of the tricks by means of which the\\n',\n",
       " 'work of prose-construction is habitually dodged. chosen for the sake of their\\n',\n",
       " 'meaning, and more and more of\\n',\n",
       " 'DYING METAPHORS. A newly invented metaphor assists thought by evoking a visual\\n',\n",
       " 'image, while on the other hand a metaphor which is technically ‘dead’ (e. g. iron\\n',\n",
       " 'resolution) has in effect reverted to being an ordinary word and can generally be used\\n',\n",
       " 'without loss of vividness. But in between these two classes there is a huge dump of\\n',\n",
       " 'worn-out metaphors which have lost all evocative power and are merely used because\\n',\n",
       " 'they save people the trouble of inventing phrases for themselves. Examples are: Ring\\n',\n",
       " 'the changes on, take up the cudgel for, toe the line, ride roughshod over, stand\\n',\n",
       " 'shoulder to shoulder with, play into the hands of, no axe to grind, grist to the mill, fishing\\n',\n",
       " 'in troubled waters, on the order of the day, Achilles’ heel, swan song, hotbed. Many of\\n',\n",
       " 'these are used without knowledge of their meaning (what is a ‘rift’, for instance?), and\\n',\n",
       " 'incompatible metaphors are frequently mixed, a sure sign that the writer is not\\n',\n",
       " 'interested in what he is saying. Some metaphors now current have been twisted out of\\n',\n",
       " 'their original meaning without those who use them even being aware of the fact. For\\n',\n",
       " 'example, toe the line is sometimes written as tow the line. Another example is the\\n',\n",
       " 'hammer and the anvil, now always used with the implication that the anvil gets the worst\\n',\n",
       " 'of it. In real life it is always the anvil that breaks the hammer, never the other way about:\\n',\n",
       " 'a writer who stopped to think what he was saying would avoid perverting the original\\n',\n",
       " 'phrase.\\n',\n",
       " 'OPERATORS OR VERBAL FALSE LIMBS. These save the trouble of picking out\\n',\n",
       " 'appropriate verbs and nouns, and at the same time pad each sentence with extra\\n',\n",
       " 'syllables which give it an appearance of symmetry. Characteristic phrases are render\\n',\n",
       " 'inoperative, militate against, make contact with, be subjected to, give rise to, give\\n',\n",
       " 'grounds for, have the effect of, play a leading part (role) in, make itself felt, take effect,\\n',\n",
       " 'exhibit a tendency to, serve the purpose of, etc., etc. The keynote is the elimination of\\n',\n",
       " 'simple verbs. Instead of being a single word, such as break, stop, spoil, mend, kill, a\\n',\n",
       " 'verb becomes a phrase, made up of a noun or adjective tacked on to some generalpurpose\\n',\n",
       " 'verb such as prove, serve, form, play, render. In addition, the passive voice is\\n',\n",
       " 'wherever possible used in preference to the active, and noun constructions are used\\n',\n",
       " 'instead of gerunds (by examination of instead of by examining). The range of verbs is\\n',\n",
       " 'further cut down by means of the -ize and de- formations, and the banal statements are\\n',\n",
       " 'given an appearance of profundity by means of the not un- formation. Simple\\n',\n",
       " 'conjunctions and prepositions are replaced by such phrases as with respect to, having\\n',\n",
       " 'regard to, the fact that, by dint of, in view of, in the interests of, on the hypothesis that;\\n',\n",
       " 'and the ends of sentences are saved by anticlimax by such resounding commonplaces\\n',\n",
       " 'as greatly to be desired, cannot be left out of account, a development to be expected in\\n',\n",
       " 'the near future, deserving of serious consideration, brought to a satisfactory conclusion,\\n',\n",
       " 'and so on and so forth.\\n',\n",
       " 'PRETENTIOUS DICTION. Words like phenomenon, element, individual (as noun),\\n',\n",
       " 'objective, categorical, effective, virtual, basic, primary, promote, constitute, exhibit,\\n',\n",
       " 'exploit, utilize, eliminate, liquidate, are used to dress up a simple statement and give an\\n',\n",
       " 'air of scientific impartiality to biased judgements. Adjectives like epoch-making, epic,\\n',\n",
       " 'historic, unforgettable, triumphant, age-old, inevitable, inexorable, veritable, are used to\\n',\n",
       " 'dignify the sordid process of international politics, while writing that aims at glorifying\\n',\n",
       " 'war usually takes on an archaic colour, its characteristic words being: realm, throne,\\n',\n",
       " 'chariot, mailed fist, trident, sword, shield, buckler, banner, jackboot, clarion. Foreign\\n',\n",
       " 'words and expressions such as cul de sac, ancien regime, deus ex machina, mutatis\\n',\n",
       " 'mutandis, status quo, gleichschaltung, weltanschauung, are used to give an air of\\n',\n",
       " 'culture and elegance. Except for the useful abbreviations i. e., e. g. and etc., there is no\\n',\n",
       " 'real need for any of the hundreds of foreign phrases now current in the English\\n',\n",
       " 'language. Bad writers, and especially scientific, political, and sociological writers, are\\n',\n",
       " 'nearly always haunted by the notion that Latin or Greek words are grander than Saxon\\n',\n",
       " 'ones, and unnecessary words like expedite, ameliorate, predict, extraneous,\\n',\n",
       " 'deracinated, clandestine, subaqueous, and hundreds of others constantly gain ground\\n',\n",
       " 'from their Anglo-Saxon numbers(1). The jargon peculiar to Marxist writing (hyena,\\n',\n",
       " 'hangman, cannibal, petty bourgeois, these gentry, lackey, flunkey, mad dog, White\\n',\n",
       " 'Guard, etc.) consists largely of words translated from Russian, German, or French; but\\n',\n",
       " 'the normal way of coining a new word is to use Latin or Greek root with the appropriate\\n',\n",
       " 'affix and, where necessary, the size formation. It is often easier to make up words of\\n',\n",
       " 'this kind (deregionalize, impermissible, extramarital, non-fragmentary and so forth) than\\n',\n",
       " \"to think up the English words that will cover one's meaning. The result, in general, is an\\n\",\n",
       " 'increase in slovenliness and vagueness.\\n',\n",
       " 'MEANINGLESS WORDS. In certain kinds of writing, particularly in art criticism and\\n',\n",
       " 'literary criticism, it is normal to come across long passages which are almost completely\\n',\n",
       " 'lacking in meaning(2). Words like romantic, plastic, values, human, dead, sentimental,\\n',\n",
       " 'natural, vitality, as used in art criticism, are strictly meaningless, in the sense that they\\n',\n",
       " 'not only do not point to any discoverable object, but are hardly ever expected to do so\\n',\n",
       " \"by the reader. When one critic writes, ‘The outstanding feature of Mr. X's work is its\\n\",\n",
       " \"living quality’, while another writes, ‘The immediately striking thing about Mr. X's work is\\n\",\n",
       " 'its peculiar deadness’, the reader accepts this as a simple difference opinion. If words\\n',\n",
       " 'like black and white were involved, instead of the jargon words dead and living, he\\n',\n",
       " 'would see at once that language was being used in an improper way. Many political\\n',\n",
       " 'words are similarly abused. The word Fascism has now no meaning except in so far as\\n',\n",
       " 'it signifies ‘something not desirable’. The words democracy, socialism, freedom,\\n',\n",
       " 'patriotic, realistic, justice have each of them several different meanings which cannot be\\n',\n",
       " 'reconciled with one another. In the case of a word like democracy, not only is there no\\n',\n",
       " 'agreed definition, but the attempt to make one is resisted from all sides. It is almost\\n',\n",
       " 'universally felt that when we call a country democratic we are praising it: consequently\\n',\n",
       " 'the defenders of every kind of regime claim that it is a democracy, and fear that they\\n',\n",
       " 'might have to stop using that word if it were tied down to any one meaning. Words of\\n',\n",
       " 'this kind are often used in a consciously dishonest way. That is, the person who uses\\n',\n",
       " 'them has his own private definition, but allows his hearer to think he means something\\n',\n",
       " 'quite different. Statements like Marshal Petain was a true patriot, The Soviet press is\\n',\n",
       " 'the freest in the world, The Catholic Church is opposed to persecution, are almost\\n',\n",
       " 'always made with intent to deceive. Other words used in variable meanings, in most\\n',\n",
       " 'cases more or less dishonestly, are: class, totalitarian, science, progressive,\\n',\n",
       " 'reactionary, bourgeois, equality.\\n',\n",
       " 'Now that I have made this catalogue of swindles and perversions, let me give another\\n',\n",
       " 'example of the kind of writing that they lead to. This time it must of its nature be an\\n',\n",
       " 'imaginary one. I am going to translate a passage of good English into modern English\\n',\n",
       " 'of the worst sort. Here is a well-known verse from Ecclesiastes:\\n',\n",
       " 'I returned and saw under the sun, that the race is not to the swift, nor the battle to the\\n',\n",
       " 'strong, neither yet bread to the wise, nor yet riches to men of understanding, nor yet\\n',\n",
       " 'favour to men of skill; but time and chance happeneth to them all.\\n',\n",
       " 'Here it is in modern English:\\n',\n",
       " 'Objective considerations of contemporary phenomena compel the conclusion that\\n',\n",
       " 'success or failure in competitive activities exhibits no tendency to be commensurate\\n',\n",
       " 'with innate capacity, but that a considerable element of the unpredictable must\\n',\n",
       " 'invariably be taken into account.\\n',\n",
       " 'This is a parody, but not a very gross one. Exhibit (3) above, for instance, contains\\n',\n",
       " 'several patches of the same kind of English. It will be seen that I have not made a full\\n',\n",
       " 'translation. The beginning and ending of the sentence follow the original meaning fairly\\n',\n",
       " 'closely, but in the middle the concrete illustrations — race, battle, bread — dissolve into\\n',\n",
       " 'the vague phrases ‘success or failure in competitive activities’. This had to be so,\\n',\n",
       " 'because no modern writer of the kind I am discussing — no one capable of using\\n',\n",
       " 'phrases like ‘objective considerations of contemporary phenomena’ — would ever\\n',\n",
       " 'tabulate his thoughts in that precise and detailed way. The whole tendency of modern\\n',\n",
       " 'prose is away from concreteness. Now analyze these two sentences a little more\\n',\n",
       " 'closely. The first contains forty-nine words but only sixty syllables, and all its words are\\n',\n",
       " 'those of everyday life. The second contains thirty-eight words of ninety syllables:\\n',\n",
       " 'eighteen of those words are from Latin roots, and one from Greek. The first sentence\\n',\n",
       " 'contains six vivid images, and only one phrase (‘time and chance’) that could be called\\n',\n",
       " 'vague. The second contains not a single fresh, arresting phrase, and in spite of its\\n',\n",
       " 'ninety syllables it gives only a shortened version of the meaning contained in the first.\\n',\n",
       " 'Yet without a doubt it is the second kind of sentence that is gaining ground in modern\\n',\n",
       " 'English. I do not want to exaggerate. This kind of writing is not yet universal, and\\n',\n",
       " 'outcrops of simplicity will occur here and there in the worst-written page. Still, if you or I\\n',\n",
       " 'were told to write a few lines on the uncertainty of human fortunes, we should probably\\n',\n",
       " 'come much nearer to my imaginary sentence than to the one from Ecclesiastes.\\n',\n",
       " 'As I have tried to show, modern writing at its worst does not consist in picking out words\\n',\n",
       " 'for the sake of their meaning and inventing images in order to make the meaning\\n',\n",
       " 'clearer. It consists in gumming together long strips of words which have already been\\n',\n",
       " 'set in order by someone else, and making the results presentable by sheer humbug.\\n',\n",
       " 'The attraction of this way of writing is that it is easy. It is easier — even quicker, once\\n',\n",
       " 'you have the habit — to say In my opinion it is not an unjustifiable assumption that than\\n',\n",
       " \"to say I think. If you use ready-made phrases, you not only don't have to hunt about for\\n\",\n",
       " \"the words; you also don't have to bother with the rhythms of your sentences since these\\n\",\n",
       " 'phrases are generally so arranged as to be more or less euphonious. When you are\\n',\n",
       " 'composing in a hurry — when you are dictating to a stenographer, for instance, or\\n',\n",
       " 'making a public speech — it is natural to fall into a pretentious, Latinized style. Tags like\\n',\n",
       " 'a consideration which we should do well to bear in mind or a conclusion to which all of\\n',\n",
       " 'us would readily assent will save many a sentence from coming down with a bump. By\\n',\n",
       " 'using stale metaphors, similes, and idioms, you save much mental effort, at the cost of\\n',\n",
       " 'leaving your meaning vague, not only for your reader but for yourself. This is the\\n',\n",
       " 'significance of mixed metaphors. The sole aim of a metaphor is to call up a visual\\n',\n",
       " 'image. When these images clash — as in The Fascist octopus has sung its swan song,\\n',\n",
       " 'the jackboot is thrown into the melting pot — it can be taken as certain that the writer is\\n',\n",
       " 'not seeing a mental image of the objects he is naming; in other words he is not really\\n',\n",
       " 'thinking. Look again at the examples I gave at the beginning of this essay. Professor\\n',\n",
       " 'Laski (1) uses five negatives in fifty three words. One of these is superfluous, making\\n',\n",
       " 'nonsense of the whole passage, and in addition there is the slip — alien for akin —\\n',\n",
       " 'making further nonsense, and several avoidable pieces of clumsiness which increase\\n',\n",
       " 'the general vagueness. Professor Hogben (2) plays ducks and drakes with a battery\\n',\n",
       " 'which is able to write prescriptions, and, while disapproving of the everyday phrase put\\n',\n",
       " 'up with, is unwilling to look egregious up in the dictionary and see what it means; (3), if\\n',\n",
       " 'one takes an uncharitable attitude towards it, is simply meaningless: probably one could\\n',\n",
       " 'work out its intended meaning by reading the whole of the article in which it occurs. In\\n',\n",
       " '(4), the writer knows more or less what he wants to say, but an accumulation of stale\\n',\n",
       " 'phrases chokes him like tea leaves blocking a sink. In (5), words and meaning have\\n',\n",
       " 'almost parted company. People who write in this manner usually have a general\\n',\n",
       " 'emotional meaning — they dislike one thing and want to express solidarity with another\\n',\n",
       " '— but they are not interested in the detail of what they are saying. A scrupulous writer,\\n',\n",
       " 'in every sentence that he writes, will ask himself at least four questions, thus: What am I\\n',\n",
       " 'trying to say? What words will express it? What image or idiom will make it clearer? Is\\n',\n",
       " 'this image fresh enough to have an effect? And he will probably ask himself two more:\\n',\n",
       " 'Could I put it more shortly? Have I said anything that is avoidably ugly? But you are not\\n',\n",
       " 'obliged to go to all this trouble. You can shirk it by simply throwing your mind open and\\n',\n",
       " 'letting the ready-made phrases come crowding in. The will construct your sentences for\\n',\n",
       " 'you — even think your thoughts for you, to a certain extent — and at need they will\\n',\n",
       " 'perform the important service of partially concealing your meaning even from yourself. It\\n',\n",
       " 'is at this point that the special connection between politics and the debasement of\\n',\n",
       " 'language becomes clear.\\n',\n",
       " 'In our time it is broadly true that political writing is bad writing. Where it is not true, it will\\n',\n",
       " 'generally be found that the writer is some kind of rebel, expressing his private opinions\\n',\n",
       " 'and not a ‘party line’. Orthodoxy, of whatever colour, seems to demand a lifeless,\\n',\n",
       " 'imitative style. The political dialects to be found in pamphlets, leading articles,\\n',\n",
       " 'manifestos, White papers and the speeches of undersecretaries do, of course, vary\\n',\n",
       " 'from party to party, but they are all alike in that one almost never finds in them a fresh,\\n',\n",
       " 'vivid, homemade turn of speech. When one watches some tired hack on the platform\\n',\n",
       " 'mechanically repeating the familiar phrases — bestial, atrocities, iron heel, bloodstained\\n',\n",
       " 'tyranny, free peoples of the world, stand shoulder to shoulder — one often has a\\n',\n",
       " 'curious feeling that one is not watching a live human being but some kind of dummy: a\\n',\n",
       " 'feeling which suddenly becomes stronger at moments when the light catches the\\n',\n",
       " \"speaker's spectacles and turns them into blank discs which seem to have no eyes\\n\",\n",
       " 'behind them. And this is not altogether fanciful. A speaker who uses that kind of\\n',\n",
       " 'phraseology has gone some distance toward turning himself into a machine. The\\n',\n",
       " 'appropriate noises are coming out of his larynx, but his brain is not involved, as it would\\n',\n",
       " 'be if he were choosing his words for himself. If the speech he is making is one that he is\\n',\n",
       " 'accustomed to make over and over again, he may be almost unconscious of what he is\\n',\n",
       " 'saying, as one is when one utters the responses in church. And this reduced state of\\n',\n",
       " 'consciousness, if not indispensable, is at any rate favourable to political conformity.\\n',\n",
       " 'In our time, political speech and writing are largely the defence of the indefensible.\\n',\n",
       " 'Things like the continuance of British rule in India, the Russian purges and deportations,\\n',\n",
       " 'the dropping of the atom bombs on Japan, can indeed be defended, but only by\\n',\n",
       " 'arguments which are too brutal for most people to face, and which do not square with\\n',\n",
       " 'the professed aims of the political parties. Thus political language has to consist largely\\n',\n",
       " 'of euphemism, question-begging and sheer cloudy vagueness. Defenceless villages are\\n',\n",
       " 'bombarded from the air, the inhabitants driven out into the countryside, the cattle\\n',\n",
       " 'machine-gunned, the huts set on fire with incendiary bullets: this is called pacification.\\n',\n",
       " 'Millions of peasants are robbed of their farms and sent trudging along the roads with no\\n',\n",
       " 'more than they can carry: this is called transfer of population or rectification of frontiers.\\n',\n",
       " 'People are imprisoned for years without trial, or shot in the back of the neck or sent to\\n',\n",
       " 'die of scurvy in Arctic lumber camps: this is called elimination of unreliable elements.\\n',\n",
       " 'Such phraseology is needed if one wants to name things without calling up mental\\n',\n",
       " 'pictures of them. Consider for instance some comfortable English professor defending\\n',\n",
       " 'Russian totalitarianism. He cannot say outright, ‘I believe in killing off your opponents\\n',\n",
       " 'when you can get good results by doing so’. Probably, therefore, he will say something\\n',\n",
       " 'like this:\\n',\n",
       " '‘While freely conceding that the Soviet regime exhibits certain features which the\\n',\n",
       " 'humanitarian may be inclined to deplore, we must, I think, agree that a certain\\n',\n",
       " 'curtailment of the right to political opposition is an unavoidable concomitant of\\n',\n",
       " 'transitional periods, and that the rigors which the Russian people have been called\\n',\n",
       " 'upon to undergo have been amply justified in the sphere of concrete achievement.’\\n',\n",
       " 'The inflated style itself is a kind of euphemism. A mass of Latin words falls upon the\\n',\n",
       " 'facts like soft snow, blurring the outline and covering up all the details. The great enemy\\n',\n",
       " \"of clear language is insincerity. When there is a gap between one's real and one's\\n\",\n",
       " 'declared aims, one turns as it were instinctively to long words and exhausted idioms,\\n',\n",
       " 'like a cuttlefish spurting out ink. In our age there is no such thing as ‘keeping out of\\n',\n",
       " 'politics’. All issues are political issues, and politics itself is a mass of lies, evasions, folly,\\n',\n",
       " 'hatred, and schizophrenia. When the general atmosphere is bad, language must suffer.\\n',\n",
       " 'I should expect to find — this is a guess which I have not sufficient knowledge to verify\\n',\n",
       " '— that the German, Russian and Italian languages have all deteriorated in the last ten\\n',\n",
       " 'or fifteen years, as a result of dictatorship.\\n',\n",
       " 'But if thought corrupts language, language can also corrupt thought. A bad usage can\\n',\n",
       " 'spread by tradition and imitation even among people who should and do know better.\\n',\n",
       " 'The debased language that I have been discussing is in some ways very convenient.\\n',\n",
       " 'Phrases like a not unjustifiable assumption, leaves much to be desired, would serve no\\n',\n",
       " 'good purpose, a consideration which we should do well to bear in mind, are a\\n',\n",
       " \"continuous temptation, a packet of aspirins always at one's elbow. Look back through\\n\",\n",
       " 'this essay, and for certain you will find that I have again and again committed the very\\n',\n",
       " \"faults I am protesting against. By this morning's post I have received a pamphlet dealing\\n\",\n",
       " 'with conditions in Germany. The author tells me that he ‘felt impelled’ to write it. I open it\\n',\n",
       " 'at random, and here is almost the first sentence I see: ‘[The Allies] have an opportunity\\n',\n",
       " \"not only of achieving a radical transformation of Germany's social and political structure\\n\",\n",
       " 'in such a way as to avoid a nationalistic reaction in Germany itself, but at the same time\\n',\n",
       " 'of laying the foundations of a co-operative and unified Europe.’ You see, he ‘feels\\n',\n",
       " 'impelled’ to write — feels, presumably, that he has something new to say — and yet his\\n',\n",
       " 'words, like cavalry horses answering the bugle, group themselves automatically into the\\n',\n",
       " \"familiar dreary pattern. This invasion of one's mind by ready-made phrases (lay the\\n\",\n",
       " 'foundations, achieve a radical transformation) can only be prevented if one is constantly\\n',\n",
       " \"on guard against them, and every such phrase anaesthetizes a portion of one's brain.\\n\",\n",
       " 'I said earlier that the decadence of our language is probably curable. Those who deny\\n',\n",
       " 'this would argue, if they produced an argument at all, that language merely reflects\\n',\n",
       " 'existing social conditions, and that we cannot influence its development by any direct\\n',\n",
       " 'tinkering with words and constructions. So far as the general tone or spirit of a language\\n',\n",
       " 'goes, this may be true, but it is not true in detail. Silly words and expressions have often\\n',\n",
       " 'disappeared, not through any evolutionary process but owing to the conscious action of\\n',\n",
       " 'a minority. Two recent examples were explore every avenue and leave no stone\\n',\n",
       " 'unturned, which were killed by the jeers of a few journalists. There is a long list of\\n',\n",
       " 'flyblown metaphors which could similarly be got rid of if enough people would interest\\n',\n",
       " 'themselves in the job; and it should also be possible to laugh the not un- formation out\\n',\n",
       " 'of existence(3), to reduce the amount of Latin and Greek in the average sentence, to\\n',\n",
       " 'drive out foreign phrases and strayed scientific words, and, in general, to make\\n',\n",
       " 'pretentiousness unfashionable. But all these are minor points. The defence of the\\n',\n",
       " 'English language implies more than this, and perhaps it is best to start by saying what it\\n',\n",
       " 'does not imply.\\n',\n",
       " 'To begin with it has nothing to do with archaism, with the salvaging of obsolete words\\n',\n",
       " 'and turns of speech, or with the setting up of a ‘standard English’ which must never be\\n',\n",
       " 'departed from. On the contrary, it is especially concerned with the scrapping of every\\n',\n",
       " 'word or idiom which has outworn its usefulness. It has nothing to do with correct\\n',\n",
       " \"grammar and syntax, which are of no importance so long as one makes one's meaning\\n\",\n",
       " 'clear, or with the avoidance of Americanisms, or with having what is called a ‘good\\n',\n",
       " 'prose style’. On the other hand, it is not concerned with fake simplicity and the attempt\\n',\n",
       " 'to make written English colloquial. Nor does it even imply in every case preferring the\\n',\n",
       " 'Saxon word to the Latin one, though it does imply using the fewest and shortest words\\n',\n",
       " \"that will cover one's meaning. What is above all needed is to let the meaning choose the\\n\",\n",
       " 'word, and not the other way around. In prose, the worst thing one can do with words is\\n',\n",
       " 'surrender to them. When you think of a concrete object, you think wordlessly, and then,\\n',\n",
       " 'if you want to describe the thing you have been visualising you probably hunt about until\\n',\n",
       " 'you find the exact words that seem to fit it. When you think of something abstract you\\n',\n",
       " 'are more inclined to use words from the start, and unless you make a conscious effort\\n',\n",
       " 'to prevent it, the existing dialect will come rushing in and do the job for you, at the\\n',\n",
       " 'expense of blurring or even changing your meaning. Probably it is better to put off using\\n',\n",
       " \"words as long as possible and get one's meaning as clear as one can through pictures\\n\",\n",
       " 'and sensations. Afterward one can choose — not simply accept — the phrases that will\\n',\n",
       " \"best cover the meaning, and then switch round and decide what impressions one's\\n\",\n",
       " 'words are likely to make on another person. This last effort of the mind cuts out all stale\\n',\n",
       " 'or mixed images, all prefabricated phrases, needless repetitions, and humbug and\\n',\n",
       " 'vagueness generally. But one can often be in doubt about the effect of a word or a\\n',\n",
       " 'phrase, and one needs rules that one can rely on when instinct fails. I think the following\\n',\n",
       " 'rules will cover most cases:\\n',\n",
       " '1. Never use a metaphor, simile, or other figure of speech which you are used to\\n',\n",
       " 'seeing in print.\\n',\n",
       " '2. Never use a long word where a short one will do.\\n',\n",
       " '3. If it is possible to cut a word out, always cut it out.\\n',\n",
       " '4. Never use the passive where you can use the active.\\n',\n",
       " '5. Never use a foreign phrase, a scientific word, or a jargon word if you can think of\\n',\n",
       " 'an everyday English equivalent.\\n',\n",
       " '6. Break any of these rules sooner than say anything outright barbarous.\\n',\n",
       " 'These rules sound elementary, and so they are, but they demand a deep change of\\n',\n",
       " 'attitude in anyone who has grown used to writing in the style now fashionable. One\\n',\n",
       " 'could keep all of them and still write bad English, but one could not write the kind of stuff\\n',\n",
       " 'that I quoted in those five specimens at the beginning of this article.\\n',\n",
       " 'I have not here been considering the literary use of language, but merely language as\\n',\n",
       " 'an instrument for expressing and not for concealing or preventing thought. Stuart Chase\\n',\n",
       " 'and others have come near to claiming that all abstract words are meaningless, and\\n',\n",
       " \"have used this as a pretext for advocating a kind of political quietism. Since you don't\\n\",\n",
       " 'know what Fascism is, how can you struggle against Fascism? One need not swallow\\n',\n",
       " 'such absurdities as this, but one ought to recognise that the present political chaos is\\n',\n",
       " 'connected with the decay of language, and that one can probably bring about some\\n',\n",
       " 'improvement by starting at the verbal end. If you simplify your English, you are freed\\n',\n",
       " 'from the worst follies of orthodoxy. You cannot speak any of the necessary dialects, and\\n',\n",
       " 'when you make a stupid remark its stupidity will be obvious, even to yourself. Political\\n',\n",
       " 'language — and with variations this is true of all political parties, from Conservatives to\\n',\n",
       " 'Anarchists — is designed to make lies sound truthful and murder respectable, and to\\n',\n",
       " 'give an appearance of solidity to pure wind. One cannot change this all in a moment,\\n',\n",
       " \"but one can at least change one's own habits, and from time to time one can even, if\\n\",\n",
       " 'one jeers loudly enough, send some worn-out and useless phrase — some jackboot,\\n',\n",
       " 'Achilles’ heel, hotbed, melting pot, acid test, veritable inferno, or other lump of verbal\\n',\n",
       " 'refuse — into the dustbin where it belongs.\\n',\n",
       " '1946\\n',\n",
       " '1) An interesting illustration of this is the way in which the English flower names which\\n',\n",
       " 'were in use till very recently are being ousted by Greek ones, snapdragon becoming\\n',\n",
       " 'antirrhinum, forget-me-not becoming myosotis, etc. It is hard to see any practical reason\\n',\n",
       " 'for this change of fashion: it is probably due to an instinctive turning-awayfrom the more\\n',\n",
       " 'homely word and a vague feeling that the Greek word is scientific. [back]\\n',\n",
       " \"2) Example: ‘Comfort's catholicity of perception and image, strangely Whitmanesque in\\n\",\n",
       " 'range, almost the exact opposite in aesthetic compulsion, continues to evoke that\\n',\n",
       " 'trembling atmospheric accumulative ginting at a cruel, an inexorably selene\\n',\n",
       " \"timelessness... Wrey Gardiner scores by aiming at simple bull's-eyes with precision.\\n\",\n",
       " 'Only they are not so simple, and through this contented sadness runs more than the\\n',\n",
       " 'surface bitter-sweet of resignation’. (Poetry Quarterly.) [back]\\n',\n",
       " '3) One can cure oneself of the not un- formation by memorizing this sentence: A not\\n',\n",
       " 'unblack dog was chasing a not unsmall rabbit across a not ungreen field. [\\n']"
      ]
     },
     "execution_count": 59,
     "metadata": {},
     "output_type": "execute_result"
    }
   ],
   "source": [
    "f.readlines()"
   ]
  },
  {
   "cell_type": "markdown",
   "metadata": {},
   "source": [
    "#### Now I want to tack something on to the end. I'd better go to the end first. But I opened it in \"read\" mode."
   ]
  },
  {
   "cell_type": "code",
   "execution_count": null,
   "metadata": {
    "collapsed": true
   },
   "outputs": [],
   "source": [
    "f.close()"
   ]
  },
  {
   "cell_type": "code",
   "execution_count": 63,
   "metadata": {
    "collapsed": true
   },
   "outputs": [],
   "source": [
    "f = open('text.txt','r+')"
   ]
  },
  {
   "cell_type": "code",
   "execution_count": 64,
   "metadata": {},
   "outputs": [
    {
     "data": {
      "text/plain": [
       "33846"
      ]
     },
     "execution_count": 64,
     "metadata": {},
     "output_type": "execute_result"
    }
   ],
   "source": [
    "f.seek(0,2)"
   ]
  },
  {
   "cell_type": "code",
   "execution_count": 65,
   "metadata": {},
   "outputs": [
    {
     "data": {
      "text/plain": [
       "32"
      ]
     },
     "execution_count": 65,
     "metadata": {},
     "output_type": "execute_result"
    }
   ],
   "source": [
    "f.write('Just adding a little note here.\\n')"
   ]
  },
  {
   "cell_type": "code",
   "execution_count": 66,
   "metadata": {
    "collapsed": true
   },
   "outputs": [],
   "source": [
    "f.close()"
   ]
  },
  {
   "cell_type": "markdown",
   "metadata": {},
   "source": [
    "### Pandas & DataFrames"
   ]
  },
  {
   "cell_type": "code",
   "execution_count": 4,
   "metadata": {
    "collapsed": true
   },
   "outputs": [],
   "source": [
    "tract_frame = pd.read_csv('tcsv/tract-by-ER-visit.csv')"
   ]
  },
  {
   "cell_type": "code",
   "execution_count": 5,
   "metadata": {},
   "outputs": [
    {
     "data": {
      "text/html": [
       "<div>\n",
       "<style>\n",
       "    .dataframe thead tr:only-child th {\n",
       "        text-align: right;\n",
       "    }\n",
       "\n",
       "    .dataframe thead th {\n",
       "        text-align: left;\n",
       "    }\n",
       "\n",
       "    .dataframe tbody tr th {\n",
       "        vertical-align: top;\n",
       "    }\n",
       "</style>\n",
       "<table border=\"1\" class=\"dataframe\">\n",
       "  <thead>\n",
       "    <tr style=\"text-align: right;\">\n",
       "      <th></th>\n",
       "      <th>TRACT</th>\n",
       "      <th>PCSA_City</th>\n",
       "      <th>Percent_Having_Emergency_Visit</th>\n",
       "    </tr>\n",
       "  </thead>\n",
       "  <tbody>\n",
       "    <tr>\n",
       "      <th>0</th>\n",
       "      <td>134703</td>\n",
       "      <td>NORTHPORT</td>\n",
       "      <td>18.7629</td>\n",
       "    </tr>\n",
       "    <tr>\n",
       "      <th>1</th>\n",
       "      <td>134903</td>\n",
       "      <td>SMITHTOWN</td>\n",
       "      <td>18.9394</td>\n",
       "    </tr>\n",
       "    <tr>\n",
       "      <th>2</th>\n",
       "      <td>158512</td>\n",
       "      <td>SMITHTOWN</td>\n",
       "      <td>19.1235</td>\n",
       "    </tr>\n",
       "  </tbody>\n",
       "</table>\n",
       "</div>"
      ],
      "text/plain": [
       "    TRACT  PCSA_City  Percent_Having_Emergency_Visit\n",
       "0  134703  NORTHPORT                         18.7629\n",
       "1  134903  SMITHTOWN                         18.9394\n",
       "2  158512  SMITHTOWN                         19.1235"
      ]
     },
     "execution_count": 5,
     "metadata": {},
     "output_type": "execute_result"
    }
   ],
   "source": [
    "tract_frame.head(3)"
   ]
  },
  {
   "cell_type": "code",
   "execution_count": 6,
   "metadata": {
    "collapsed": true
   },
   "outputs": [],
   "source": [
    "city_groups = tract_frame.groupby('PCSA_City')"
   ]
  },
  {
   "cell_type": "code",
   "execution_count": 7,
   "metadata": {},
   "outputs": [
    {
     "data": {
      "text/html": [
       "<div>\n",
       "<style>\n",
       "    .dataframe thead tr:only-child th {\n",
       "        text-align: right;\n",
       "    }\n",
       "\n",
       "    .dataframe thead th {\n",
       "        text-align: left;\n",
       "    }\n",
       "\n",
       "    .dataframe tbody tr th {\n",
       "        vertical-align: top;\n",
       "    }\n",
       "</style>\n",
       "<table border=\"1\" class=\"dataframe\">\n",
       "  <thead>\n",
       "    <tr>\n",
       "      <th></th>\n",
       "      <th colspan=\"8\" halign=\"left\">Percent_Having_Emergency_Visit</th>\n",
       "      <th colspan=\"8\" halign=\"left\">TRACT</th>\n",
       "    </tr>\n",
       "    <tr>\n",
       "      <th></th>\n",
       "      <th>count</th>\n",
       "      <th>mean</th>\n",
       "      <th>std</th>\n",
       "      <th>min</th>\n",
       "      <th>25%</th>\n",
       "      <th>50%</th>\n",
       "      <th>75%</th>\n",
       "      <th>max</th>\n",
       "      <th>count</th>\n",
       "      <th>mean</th>\n",
       "      <th>std</th>\n",
       "      <th>min</th>\n",
       "      <th>25%</th>\n",
       "      <th>50%</th>\n",
       "      <th>75%</th>\n",
       "      <th>max</th>\n",
       "    </tr>\n",
       "    <tr>\n",
       "      <th>PCSA_City</th>\n",
       "      <th></th>\n",
       "      <th></th>\n",
       "      <th></th>\n",
       "      <th></th>\n",
       "      <th></th>\n",
       "      <th></th>\n",
       "      <th></th>\n",
       "      <th></th>\n",
       "      <th></th>\n",
       "      <th></th>\n",
       "      <th></th>\n",
       "      <th></th>\n",
       "      <th></th>\n",
       "      <th></th>\n",
       "      <th></th>\n",
       "      <th></th>\n",
       "    </tr>\n",
       "  </thead>\n",
       "  <tbody>\n",
       "    <tr>\n",
       "      <th>AMITYVILLE</th>\n",
       "      <td>10.0</td>\n",
       "      <td>28.002250</td>\n",
       "      <td>3.315530</td>\n",
       "      <td>24.3021</td>\n",
       "      <td>26.065775</td>\n",
       "      <td>27.03585</td>\n",
       "      <td>29.409625</td>\n",
       "      <td>33.7838</td>\n",
       "      <td>10.0</td>\n",
       "      <td>123511.200000</td>\n",
       "      <td>242.387568</td>\n",
       "      <td>123201.0</td>\n",
       "      <td>123301.25</td>\n",
       "      <td>123550.0</td>\n",
       "      <td>123701.75</td>\n",
       "      <td>123802.0</td>\n",
       "    </tr>\n",
       "    <tr>\n",
       "      <th>BABYLON</th>\n",
       "      <td>12.0</td>\n",
       "      <td>27.023692</td>\n",
       "      <td>2.260266</td>\n",
       "      <td>23.6407</td>\n",
       "      <td>25.396800</td>\n",
       "      <td>26.84735</td>\n",
       "      <td>28.351900</td>\n",
       "      <td>30.4175</td>\n",
       "      <td>12.0</td>\n",
       "      <td>131377.000000</td>\n",
       "      <td>11398.876890</td>\n",
       "      <td>122502.0</td>\n",
       "      <td>123101.75</td>\n",
       "      <td>124550.5</td>\n",
       "      <td>146705.25</td>\n",
       "      <td>146901.0</td>\n",
       "    </tr>\n",
       "    <tr>\n",
       "      <th>BAY SHORE</th>\n",
       "      <td>33.0</td>\n",
       "      <td>26.765409</td>\n",
       "      <td>2.712173</td>\n",
       "      <td>22.9927</td>\n",
       "      <td>24.663700</td>\n",
       "      <td>26.51520</td>\n",
       "      <td>28.260900</td>\n",
       "      <td>35.6223</td>\n",
       "      <td>33.0</td>\n",
       "      <td>147954.000000</td>\n",
       "      <td>9557.823458</td>\n",
       "      <td>145602.0</td>\n",
       "      <td>145902.00</td>\n",
       "      <td>146106.0</td>\n",
       "      <td>146902.00</td>\n",
       "      <td>201100.0</td>\n",
       "    </tr>\n",
       "    <tr>\n",
       "      <th>BAYPORT</th>\n",
       "      <td>2.0</td>\n",
       "      <td>21.718350</td>\n",
       "      <td>0.624729</td>\n",
       "      <td>21.2766</td>\n",
       "      <td>21.497475</td>\n",
       "      <td>21.71835</td>\n",
       "      <td>21.939225</td>\n",
       "      <td>22.1601</td>\n",
       "      <td>2.0</td>\n",
       "      <td>147901.500000</td>\n",
       "      <td>0.707107</td>\n",
       "      <td>147901.0</td>\n",
       "      <td>147901.25</td>\n",
       "      <td>147901.5</td>\n",
       "      <td>147901.75</td>\n",
       "      <td>147902.0</td>\n",
       "    </tr>\n",
       "    <tr>\n",
       "      <th>CALVERTON</th>\n",
       "      <td>1.0</td>\n",
       "      <td>23.762400</td>\n",
       "      <td>NaN</td>\n",
       "      <td>23.7624</td>\n",
       "      <td>23.762400</td>\n",
       "      <td>23.76240</td>\n",
       "      <td>23.762400</td>\n",
       "      <td>23.7624</td>\n",
       "      <td>1.0</td>\n",
       "      <td>169701.000000</td>\n",
       "      <td>NaN</td>\n",
       "      <td>169701.0</td>\n",
       "      <td>169701.00</td>\n",
       "      <td>169701.0</td>\n",
       "      <td>169701.00</td>\n",
       "      <td>169701.0</td>\n",
       "    </tr>\n",
       "    <tr>\n",
       "      <th>DEER PARK</th>\n",
       "      <td>9.0</td>\n",
       "      <td>25.610800</td>\n",
       "      <td>3.111880</td>\n",
       "      <td>19.7605</td>\n",
       "      <td>24.444400</td>\n",
       "      <td>25.70090</td>\n",
       "      <td>27.191700</td>\n",
       "      <td>30.0885</td>\n",
       "      <td>9.0</td>\n",
       "      <td>122670.333333</td>\n",
       "      <td>122.086035</td>\n",
       "      <td>122405.0</td>\n",
       "      <td>122602.00</td>\n",
       "      <td>122705.0</td>\n",
       "      <td>122707.00</td>\n",
       "      <td>122802.0</td>\n",
       "    </tr>\n",
       "    <tr>\n",
       "      <th>EAST HAMPTON</th>\n",
       "      <td>5.0</td>\n",
       "      <td>24.042400</td>\n",
       "      <td>1.085946</td>\n",
       "      <td>22.8448</td>\n",
       "      <td>22.988500</td>\n",
       "      <td>24.22760</td>\n",
       "      <td>25.036400</td>\n",
       "      <td>25.1147</td>\n",
       "      <td>5.0</td>\n",
       "      <td>198903.000000</td>\n",
       "      <td>4581.419922</td>\n",
       "      <td>190708.0</td>\n",
       "      <td>200901.00</td>\n",
       "      <td>200902.0</td>\n",
       "      <td>201001.00</td>\n",
       "      <td>201003.0</td>\n",
       "    </tr>\n",
       "    <tr>\n",
       "      <th>EAST ISLIP</th>\n",
       "      <td>13.0</td>\n",
       "      <td>26.143654</td>\n",
       "      <td>3.227958</td>\n",
       "      <td>20.1613</td>\n",
       "      <td>24.850300</td>\n",
       "      <td>26.82540</td>\n",
       "      <td>27.419400</td>\n",
       "      <td>31.2715</td>\n",
       "      <td>13.0</td>\n",
       "      <td>146810.692308</td>\n",
       "      <td>532.345030</td>\n",
       "      <td>146206.0</td>\n",
       "      <td>146403.00</td>\n",
       "      <td>146606.0</td>\n",
       "      <td>147501.00</td>\n",
       "      <td>147601.0</td>\n",
       "    </tr>\n",
       "    <tr>\n",
       "      <th>EAST MORICHES</th>\n",
       "      <td>7.0</td>\n",
       "      <td>25.589943</td>\n",
       "      <td>2.228553</td>\n",
       "      <td>21.7480</td>\n",
       "      <td>24.747050</td>\n",
       "      <td>25.40190</td>\n",
       "      <td>26.828400</td>\n",
       "      <td>28.8288</td>\n",
       "      <td>7.0</td>\n",
       "      <td>159478.714286</td>\n",
       "      <td>91.948743</td>\n",
       "      <td>159406.0</td>\n",
       "      <td>159409.00</td>\n",
       "      <td>159412.0</td>\n",
       "      <td>159556.50</td>\n",
       "      <td>159602.0</td>\n",
       "    </tr>\n",
       "    <tr>\n",
       "      <th>EAST NORTHPORT</th>\n",
       "      <td>5.0</td>\n",
       "      <td>23.642200</td>\n",
       "      <td>1.605273</td>\n",
       "      <td>20.9677</td>\n",
       "      <td>23.517400</td>\n",
       "      <td>24.06250</td>\n",
       "      <td>24.574200</td>\n",
       "      <td>25.0892</td>\n",
       "      <td>5.0</td>\n",
       "      <td>111782.800000</td>\n",
       "      <td>44.064725</td>\n",
       "      <td>111704.0</td>\n",
       "      <td>111801.00</td>\n",
       "      <td>111802.0</td>\n",
       "      <td>111803.00</td>\n",
       "      <td>111804.0</td>\n",
       "    </tr>\n",
       "    <tr>\n",
       "      <th>GREENPORT</th>\n",
       "      <td>1.0</td>\n",
       "      <td>33.439500</td>\n",
       "      <td>NaN</td>\n",
       "      <td>33.4395</td>\n",
       "      <td>33.439500</td>\n",
       "      <td>33.43950</td>\n",
       "      <td>33.439500</td>\n",
       "      <td>33.4395</td>\n",
       "      <td>1.0</td>\n",
       "      <td>170101.000000</td>\n",
       "      <td>NaN</td>\n",
       "      <td>170101.0</td>\n",
       "      <td>170101.00</td>\n",
       "      <td>170101.0</td>\n",
       "      <td>170101.00</td>\n",
       "      <td>170101.0</td>\n",
       "    </tr>\n",
       "    <tr>\n",
       "      <th>HAMPTON BAYS</th>\n",
       "      <td>4.0</td>\n",
       "      <td>26.407650</td>\n",
       "      <td>2.493445</td>\n",
       "      <td>23.1150</td>\n",
       "      <td>25.286850</td>\n",
       "      <td>26.80630</td>\n",
       "      <td>27.927100</td>\n",
       "      <td>28.9030</td>\n",
       "      <td>4.0</td>\n",
       "      <td>190552.750000</td>\n",
       "      <td>99.841124</td>\n",
       "      <td>190403.0</td>\n",
       "      <td>190551.50</td>\n",
       "      <td>190602.0</td>\n",
       "      <td>190603.25</td>\n",
       "      <td>190604.0</td>\n",
       "    </tr>\n",
       "    <tr>\n",
       "      <th>HUNTINGTON</th>\n",
       "      <td>12.0</td>\n",
       "      <td>24.307492</td>\n",
       "      <td>1.770439</td>\n",
       "      <td>21.8673</td>\n",
       "      <td>22.629400</td>\n",
       "      <td>24.59670</td>\n",
       "      <td>25.358425</td>\n",
       "      <td>26.9863</td>\n",
       "      <td>12.0</td>\n",
       "      <td>110634.250000</td>\n",
       "      <td>544.604965</td>\n",
       "      <td>110101.0</td>\n",
       "      <td>110275.00</td>\n",
       "      <td>110451.5</td>\n",
       "      <td>110926.00</td>\n",
       "      <td>111900.0</td>\n",
       "    </tr>\n",
       "    <tr>\n",
       "      <th>HUNTINGTON STATION</th>\n",
       "      <td>20.0</td>\n",
       "      <td>26.032935</td>\n",
       "      <td>3.464614</td>\n",
       "      <td>20.0000</td>\n",
       "      <td>24.018025</td>\n",
       "      <td>26.07465</td>\n",
       "      <td>28.435550</td>\n",
       "      <td>32.7660</td>\n",
       "      <td>20.0</td>\n",
       "      <td>111674.300000</td>\n",
       "      <td>464.819161</td>\n",
       "      <td>110902.0</td>\n",
       "      <td>111351.25</td>\n",
       "      <td>111505.5</td>\n",
       "      <td>112129.00</td>\n",
       "      <td>112214.0</td>\n",
       "    </tr>\n",
       "    <tr>\n",
       "      <th>LINDENHURST</th>\n",
       "      <td>9.0</td>\n",
       "      <td>24.515922</td>\n",
       "      <td>2.441871</td>\n",
       "      <td>21.6080</td>\n",
       "      <td>22.504900</td>\n",
       "      <td>23.49400</td>\n",
       "      <td>26.913600</td>\n",
       "      <td>27.6596</td>\n",
       "      <td>9.0</td>\n",
       "      <td>123945.666667</td>\n",
       "      <td>339.494109</td>\n",
       "      <td>123401.0</td>\n",
       "      <td>123900.00</td>\n",
       "      <td>124002.0</td>\n",
       "      <td>124102.00</td>\n",
       "      <td>124402.0</td>\n",
       "    </tr>\n",
       "    <tr>\n",
       "      <th>MASSAPEQUA</th>\n",
       "      <td>1.0</td>\n",
       "      <td>28.110600</td>\n",
       "      <td>NaN</td>\n",
       "      <td>28.1106</td>\n",
       "      <td>28.110600</td>\n",
       "      <td>28.11060</td>\n",
       "      <td>28.110600</td>\n",
       "      <td>28.1106</td>\n",
       "      <td>1.0</td>\n",
       "      <td>122300.000000</td>\n",
       "      <td>NaN</td>\n",
       "      <td>122300.0</td>\n",
       "      <td>122300.00</td>\n",
       "      <td>122300.0</td>\n",
       "      <td>122300.00</td>\n",
       "      <td>122300.0</td>\n",
       "    </tr>\n",
       "    <tr>\n",
       "      <th>MATTITUCK</th>\n",
       "      <td>2.0</td>\n",
       "      <td>23.910850</td>\n",
       "      <td>0.156766</td>\n",
       "      <td>23.8000</td>\n",
       "      <td>23.855425</td>\n",
       "      <td>23.91085</td>\n",
       "      <td>23.966275</td>\n",
       "      <td>24.0217</td>\n",
       "      <td>2.0</td>\n",
       "      <td>169951.500000</td>\n",
       "      <td>70.003571</td>\n",
       "      <td>169902.0</td>\n",
       "      <td>169926.75</td>\n",
       "      <td>169951.5</td>\n",
       "      <td>169976.25</td>\n",
       "      <td>170001.0</td>\n",
       "    </tr>\n",
       "    <tr>\n",
       "      <th>MONTAUK</th>\n",
       "      <td>1.0</td>\n",
       "      <td>24.931100</td>\n",
       "      <td>NaN</td>\n",
       "      <td>24.9311</td>\n",
       "      <td>24.931100</td>\n",
       "      <td>24.93110</td>\n",
       "      <td>24.931100</td>\n",
       "      <td>24.9311</td>\n",
       "      <td>1.0</td>\n",
       "      <td>201004.000000</td>\n",
       "      <td>NaN</td>\n",
       "      <td>201004.0</td>\n",
       "      <td>201004.00</td>\n",
       "      <td>201004.0</td>\n",
       "      <td>201004.00</td>\n",
       "      <td>201004.0</td>\n",
       "    </tr>\n",
       "    <tr>\n",
       "      <th>NORTHPORT</th>\n",
       "      <td>8.0</td>\n",
       "      <td>23.905350</td>\n",
       "      <td>2.770562</td>\n",
       "      <td>18.7629</td>\n",
       "      <td>23.086425</td>\n",
       "      <td>23.62830</td>\n",
       "      <td>25.315125</td>\n",
       "      <td>28.0587</td>\n",
       "      <td>8.0</td>\n",
       "      <td>114189.250000</td>\n",
       "      <td>8301.542968</td>\n",
       "      <td>110600.0</td>\n",
       "      <td>110802.50</td>\n",
       "      <td>111601.5</td>\n",
       "      <td>111701.50</td>\n",
       "      <td>134703.0</td>\n",
       "    </tr>\n",
       "    <tr>\n",
       "      <th>PATCHOGUE</th>\n",
       "      <td>20.0</td>\n",
       "      <td>27.589985</td>\n",
       "      <td>4.869103</td>\n",
       "      <td>20.3883</td>\n",
       "      <td>24.404225</td>\n",
       "      <td>26.63300</td>\n",
       "      <td>30.224150</td>\n",
       "      <td>37.0902</td>\n",
       "      <td>20.0</td>\n",
       "      <td>157755.000000</td>\n",
       "      <td>3815.510796</td>\n",
       "      <td>146611.0</td>\n",
       "      <td>158779.50</td>\n",
       "      <td>159051.0</td>\n",
       "      <td>159107.25</td>\n",
       "      <td>159300.0</td>\n",
       "    </tr>\n",
       "    <tr>\n",
       "      <th>PORT JEFFERSON</th>\n",
       "      <td>20.0</td>\n",
       "      <td>28.526575</td>\n",
       "      <td>3.798084</td>\n",
       "      <td>20.5345</td>\n",
       "      <td>26.640850</td>\n",
       "      <td>28.29850</td>\n",
       "      <td>31.119800</td>\n",
       "      <td>36.9318</td>\n",
       "      <td>20.0</td>\n",
       "      <td>158380.150000</td>\n",
       "      <td>176.939263</td>\n",
       "      <td>158202.0</td>\n",
       "      <td>158305.50</td>\n",
       "      <td>158317.5</td>\n",
       "      <td>158404.00</td>\n",
       "      <td>158711.0</td>\n",
       "    </tr>\n",
       "    <tr>\n",
       "      <th>PORT JEFFERSON STATION</th>\n",
       "      <td>29.0</td>\n",
       "      <td>28.391097</td>\n",
       "      <td>6.862561</td>\n",
       "      <td>19.4268</td>\n",
       "      <td>23.161800</td>\n",
       "      <td>27.40590</td>\n",
       "      <td>31.707300</td>\n",
       "      <td>50.6173</td>\n",
       "      <td>29.0</td>\n",
       "      <td>158212.206897</td>\n",
       "      <td>206.584880</td>\n",
       "      <td>158001.0</td>\n",
       "      <td>158102.00</td>\n",
       "      <td>158112.0</td>\n",
       "      <td>158320.00</td>\n",
       "      <td>158606.0</td>\n",
       "    </tr>\n",
       "    <tr>\n",
       "      <th>RIVERHEAD</th>\n",
       "      <td>6.0</td>\n",
       "      <td>29.132567</td>\n",
       "      <td>2.932339</td>\n",
       "      <td>25.8333</td>\n",
       "      <td>27.251825</td>\n",
       "      <td>28.88015</td>\n",
       "      <td>30.014900</td>\n",
       "      <td>34.0996</td>\n",
       "      <td>6.0</td>\n",
       "      <td>171486.500000</td>\n",
       "      <td>10152.008998</td>\n",
       "      <td>159410.0</td>\n",
       "      <td>169703.25</td>\n",
       "      <td>169752.0</td>\n",
       "      <td>169875.75</td>\n",
       "      <td>190401.0</td>\n",
       "    </tr>\n",
       "    <tr>\n",
       "      <th>SHELTER ISLAND</th>\n",
       "      <td>1.0</td>\n",
       "      <td>25.555600</td>\n",
       "      <td>NaN</td>\n",
       "      <td>25.5556</td>\n",
       "      <td>25.555600</td>\n",
       "      <td>25.55560</td>\n",
       "      <td>25.555600</td>\n",
       "      <td>25.5556</td>\n",
       "      <td>1.0</td>\n",
       "      <td>180300.000000</td>\n",
       "      <td>NaN</td>\n",
       "      <td>180300.0</td>\n",
       "      <td>180300.00</td>\n",
       "      <td>180300.0</td>\n",
       "      <td>180300.00</td>\n",
       "      <td>180300.0</td>\n",
       "    </tr>\n",
       "    <tr>\n",
       "      <th>SHIRLEY</th>\n",
       "      <td>7.0</td>\n",
       "      <td>28.143957</td>\n",
       "      <td>2.931408</td>\n",
       "      <td>24.4292</td>\n",
       "      <td>26.832900</td>\n",
       "      <td>27.92360</td>\n",
       "      <td>28.616900</td>\n",
       "      <td>33.7553</td>\n",
       "      <td>7.0</td>\n",
       "      <td>159478.714286</td>\n",
       "      <td>49.724958</td>\n",
       "      <td>159404.0</td>\n",
       "      <td>159456.50</td>\n",
       "      <td>159506.0</td>\n",
       "      <td>159508.50</td>\n",
       "      <td>159511.0</td>\n",
       "    </tr>\n",
       "    <tr>\n",
       "      <th>SHOREHAM</th>\n",
       "      <td>8.0</td>\n",
       "      <td>27.974375</td>\n",
       "      <td>4.174374</td>\n",
       "      <td>21.7918</td>\n",
       "      <td>25.833425</td>\n",
       "      <td>28.83140</td>\n",
       "      <td>31.028625</td>\n",
       "      <td>32.3350</td>\n",
       "      <td>8.0</td>\n",
       "      <td>158481.750000</td>\n",
       "      <td>140.606594</td>\n",
       "      <td>158401.0</td>\n",
       "      <td>158404.25</td>\n",
       "      <td>158408.5</td>\n",
       "      <td>158484.75</td>\n",
       "      <td>158710.0</td>\n",
       "    </tr>\n",
       "    <tr>\n",
       "      <th>SMITHTOWN</th>\n",
       "      <td>47.0</td>\n",
       "      <td>24.699538</td>\n",
       "      <td>3.164163</td>\n",
       "      <td>18.9394</td>\n",
       "      <td>22.777950</td>\n",
       "      <td>24.52830</td>\n",
       "      <td>26.296500</td>\n",
       "      <td>33.6996</td>\n",
       "      <td>47.0</td>\n",
       "      <td>139715.723404</td>\n",
       "      <td>11202.966745</td>\n",
       "      <td>112103.0</td>\n",
       "      <td>135003.50</td>\n",
       "      <td>135301.0</td>\n",
       "      <td>146206.00</td>\n",
       "      <td>158609.0</td>\n",
       "    </tr>\n",
       "    <tr>\n",
       "      <th>SOUTHAMPTON</th>\n",
       "      <td>5.0</td>\n",
       "      <td>28.889560</td>\n",
       "      <td>6.307627</td>\n",
       "      <td>21.5837</td>\n",
       "      <td>24.127500</td>\n",
       "      <td>29.94480</td>\n",
       "      <td>31.129500</td>\n",
       "      <td>37.6623</td>\n",
       "      <td>5.0</td>\n",
       "      <td>190724.400000</td>\n",
       "      <td>42.276471</td>\n",
       "      <td>190704.0</td>\n",
       "      <td>190705.00</td>\n",
       "      <td>190706.0</td>\n",
       "      <td>190707.00</td>\n",
       "      <td>190800.0</td>\n",
       "    </tr>\n",
       "    <tr>\n",
       "      <th>SOUTHOLD</th>\n",
       "      <td>3.0</td>\n",
       "      <td>28.825433</td>\n",
       "      <td>3.425525</td>\n",
       "      <td>25.5814</td>\n",
       "      <td>27.034450</td>\n",
       "      <td>28.48750</td>\n",
       "      <td>30.447450</td>\n",
       "      <td>32.4074</td>\n",
       "      <td>3.0</td>\n",
       "      <td>170135.000000</td>\n",
       "      <td>115.182464</td>\n",
       "      <td>170002.0</td>\n",
       "      <td>170101.50</td>\n",
       "      <td>170201.0</td>\n",
       "      <td>170201.50</td>\n",
       "      <td>170202.0</td>\n",
       "    </tr>\n",
       "    <tr>\n",
       "      <th>WEST BABYLON</th>\n",
       "      <td>6.0</td>\n",
       "      <td>25.735450</td>\n",
       "      <td>2.951637</td>\n",
       "      <td>22.8883</td>\n",
       "      <td>23.475225</td>\n",
       "      <td>25.21470</td>\n",
       "      <td>26.915475</td>\n",
       "      <td>30.7172</td>\n",
       "      <td>6.0</td>\n",
       "      <td>123085.000000</td>\n",
       "      <td>635.810664</td>\n",
       "      <td>122404.0</td>\n",
       "      <td>122901.25</td>\n",
       "      <td>122951.5</td>\n",
       "      <td>123001.75</td>\n",
       "      <td>124300.0</td>\n",
       "    </tr>\n",
       "    <tr>\n",
       "      <th>WEST SAYVILLE</th>\n",
       "      <td>7.0</td>\n",
       "      <td>26.674871</td>\n",
       "      <td>4.515785</td>\n",
       "      <td>20.6573</td>\n",
       "      <td>24.282250</td>\n",
       "      <td>26.36530</td>\n",
       "      <td>28.353300</td>\n",
       "      <td>34.4304</td>\n",
       "      <td>7.0</td>\n",
       "      <td>147574.571429</td>\n",
       "      <td>432.777024</td>\n",
       "      <td>146608.0</td>\n",
       "      <td>147651.50</td>\n",
       "      <td>147702.0</td>\n",
       "      <td>147802.50</td>\n",
       "      <td>147804.0</td>\n",
       "    </tr>\n",
       "    <tr>\n",
       "      <th>WESTHAMPTON BEACH</th>\n",
       "      <td>4.0</td>\n",
       "      <td>24.862325</td>\n",
       "      <td>3.419965</td>\n",
       "      <td>21.9424</td>\n",
       "      <td>22.067725</td>\n",
       "      <td>24.30260</td>\n",
       "      <td>27.097200</td>\n",
       "      <td>28.9017</td>\n",
       "      <td>4.0</td>\n",
       "      <td>190477.750000</td>\n",
       "      <td>50.506600</td>\n",
       "      <td>190402.0</td>\n",
       "      <td>190477.00</td>\n",
       "      <td>190502.5</td>\n",
       "      <td>190503.25</td>\n",
       "      <td>190504.0</td>\n",
       "    </tr>\n",
       "    <tr>\n",
       "      <th>WYANDANCH</th>\n",
       "      <td>3.0</td>\n",
       "      <td>29.048333</td>\n",
       "      <td>3.800885</td>\n",
       "      <td>24.6637</td>\n",
       "      <td>27.868550</td>\n",
       "      <td>31.07340</td>\n",
       "      <td>31.240650</td>\n",
       "      <td>31.4079</td>\n",
       "      <td>3.0</td>\n",
       "      <td>122436.666667</td>\n",
       "      <td>55.734490</td>\n",
       "      <td>122403.0</td>\n",
       "      <td>122404.50</td>\n",
       "      <td>122406.0</td>\n",
       "      <td>122453.50</td>\n",
       "      <td>122501.0</td>\n",
       "    </tr>\n",
       "  </tbody>\n",
       "</table>\n",
       "</div>"
      ],
      "text/plain": [
       "                       Percent_Having_Emergency_Visit                       \\\n",
       "                                                count       mean       std   \n",
       "PCSA_City                                                                    \n",
       "AMITYVILLE                                       10.0  28.002250  3.315530   \n",
       "BABYLON                                          12.0  27.023692  2.260266   \n",
       "BAY SHORE                                        33.0  26.765409  2.712173   \n",
       "BAYPORT                                           2.0  21.718350  0.624729   \n",
       "CALVERTON                                         1.0  23.762400       NaN   \n",
       "DEER PARK                                         9.0  25.610800  3.111880   \n",
       "EAST HAMPTON                                      5.0  24.042400  1.085946   \n",
       "EAST ISLIP                                       13.0  26.143654  3.227958   \n",
       "EAST MORICHES                                     7.0  25.589943  2.228553   \n",
       "EAST NORTHPORT                                    5.0  23.642200  1.605273   \n",
       "GREENPORT                                         1.0  33.439500       NaN   \n",
       "HAMPTON BAYS                                      4.0  26.407650  2.493445   \n",
       "HUNTINGTON                                       12.0  24.307492  1.770439   \n",
       "HUNTINGTON STATION                               20.0  26.032935  3.464614   \n",
       "LINDENHURST                                       9.0  24.515922  2.441871   \n",
       "MASSAPEQUA                                        1.0  28.110600       NaN   \n",
       "MATTITUCK                                         2.0  23.910850  0.156766   \n",
       "MONTAUK                                           1.0  24.931100       NaN   \n",
       "NORTHPORT                                         8.0  23.905350  2.770562   \n",
       "PATCHOGUE                                        20.0  27.589985  4.869103   \n",
       "PORT JEFFERSON                                   20.0  28.526575  3.798084   \n",
       "PORT JEFFERSON STATION                           29.0  28.391097  6.862561   \n",
       "RIVERHEAD                                         6.0  29.132567  2.932339   \n",
       "SHELTER ISLAND                                    1.0  25.555600       NaN   \n",
       "SHIRLEY                                           7.0  28.143957  2.931408   \n",
       "SHOREHAM                                          8.0  27.974375  4.174374   \n",
       "SMITHTOWN                                        47.0  24.699538  3.164163   \n",
       "SOUTHAMPTON                                       5.0  28.889560  6.307627   \n",
       "SOUTHOLD                                          3.0  28.825433  3.425525   \n",
       "WEST BABYLON                                      6.0  25.735450  2.951637   \n",
       "WEST SAYVILLE                                     7.0  26.674871  4.515785   \n",
       "WESTHAMPTON BEACH                                 4.0  24.862325  3.419965   \n",
       "WYANDANCH                                         3.0  29.048333  3.800885   \n",
       "\n",
       "                                                                          \\\n",
       "                            min        25%       50%        75%      max   \n",
       "PCSA_City                                                                  \n",
       "AMITYVILLE              24.3021  26.065775  27.03585  29.409625  33.7838   \n",
       "BABYLON                 23.6407  25.396800  26.84735  28.351900  30.4175   \n",
       "BAY SHORE               22.9927  24.663700  26.51520  28.260900  35.6223   \n",
       "BAYPORT                 21.2766  21.497475  21.71835  21.939225  22.1601   \n",
       "CALVERTON               23.7624  23.762400  23.76240  23.762400  23.7624   \n",
       "DEER PARK               19.7605  24.444400  25.70090  27.191700  30.0885   \n",
       "EAST HAMPTON            22.8448  22.988500  24.22760  25.036400  25.1147   \n",
       "EAST ISLIP              20.1613  24.850300  26.82540  27.419400  31.2715   \n",
       "EAST MORICHES           21.7480  24.747050  25.40190  26.828400  28.8288   \n",
       "EAST NORTHPORT          20.9677  23.517400  24.06250  24.574200  25.0892   \n",
       "GREENPORT               33.4395  33.439500  33.43950  33.439500  33.4395   \n",
       "HAMPTON BAYS            23.1150  25.286850  26.80630  27.927100  28.9030   \n",
       "HUNTINGTON              21.8673  22.629400  24.59670  25.358425  26.9863   \n",
       "HUNTINGTON STATION      20.0000  24.018025  26.07465  28.435550  32.7660   \n",
       "LINDENHURST             21.6080  22.504900  23.49400  26.913600  27.6596   \n",
       "MASSAPEQUA              28.1106  28.110600  28.11060  28.110600  28.1106   \n",
       "MATTITUCK               23.8000  23.855425  23.91085  23.966275  24.0217   \n",
       "MONTAUK                 24.9311  24.931100  24.93110  24.931100  24.9311   \n",
       "NORTHPORT               18.7629  23.086425  23.62830  25.315125  28.0587   \n",
       "PATCHOGUE               20.3883  24.404225  26.63300  30.224150  37.0902   \n",
       "PORT JEFFERSON          20.5345  26.640850  28.29850  31.119800  36.9318   \n",
       "PORT JEFFERSON STATION  19.4268  23.161800  27.40590  31.707300  50.6173   \n",
       "RIVERHEAD               25.8333  27.251825  28.88015  30.014900  34.0996   \n",
       "SHELTER ISLAND          25.5556  25.555600  25.55560  25.555600  25.5556   \n",
       "SHIRLEY                 24.4292  26.832900  27.92360  28.616900  33.7553   \n",
       "SHOREHAM                21.7918  25.833425  28.83140  31.028625  32.3350   \n",
       "SMITHTOWN               18.9394  22.777950  24.52830  26.296500  33.6996   \n",
       "SOUTHAMPTON             21.5837  24.127500  29.94480  31.129500  37.6623   \n",
       "SOUTHOLD                25.5814  27.034450  28.48750  30.447450  32.4074   \n",
       "WEST BABYLON            22.8883  23.475225  25.21470  26.915475  30.7172   \n",
       "WEST SAYVILLE           20.6573  24.282250  26.36530  28.353300  34.4304   \n",
       "WESTHAMPTON BEACH       21.9424  22.067725  24.30260  27.097200  28.9017   \n",
       "WYANDANCH               24.6637  27.868550  31.07340  31.240650  31.4079   \n",
       "\n",
       "                       TRACT                                         \\\n",
       "                       count           mean           std       min   \n",
       "PCSA_City                                                             \n",
       "AMITYVILLE              10.0  123511.200000    242.387568  123201.0   \n",
       "BABYLON                 12.0  131377.000000  11398.876890  122502.0   \n",
       "BAY SHORE               33.0  147954.000000   9557.823458  145602.0   \n",
       "BAYPORT                  2.0  147901.500000      0.707107  147901.0   \n",
       "CALVERTON                1.0  169701.000000           NaN  169701.0   \n",
       "DEER PARK                9.0  122670.333333    122.086035  122405.0   \n",
       "EAST HAMPTON             5.0  198903.000000   4581.419922  190708.0   \n",
       "EAST ISLIP              13.0  146810.692308    532.345030  146206.0   \n",
       "EAST MORICHES            7.0  159478.714286     91.948743  159406.0   \n",
       "EAST NORTHPORT           5.0  111782.800000     44.064725  111704.0   \n",
       "GREENPORT                1.0  170101.000000           NaN  170101.0   \n",
       "HAMPTON BAYS             4.0  190552.750000     99.841124  190403.0   \n",
       "HUNTINGTON              12.0  110634.250000    544.604965  110101.0   \n",
       "HUNTINGTON STATION      20.0  111674.300000    464.819161  110902.0   \n",
       "LINDENHURST              9.0  123945.666667    339.494109  123401.0   \n",
       "MASSAPEQUA               1.0  122300.000000           NaN  122300.0   \n",
       "MATTITUCK                2.0  169951.500000     70.003571  169902.0   \n",
       "MONTAUK                  1.0  201004.000000           NaN  201004.0   \n",
       "NORTHPORT                8.0  114189.250000   8301.542968  110600.0   \n",
       "PATCHOGUE               20.0  157755.000000   3815.510796  146611.0   \n",
       "PORT JEFFERSON          20.0  158380.150000    176.939263  158202.0   \n",
       "PORT JEFFERSON STATION  29.0  158212.206897    206.584880  158001.0   \n",
       "RIVERHEAD                6.0  171486.500000  10152.008998  159410.0   \n",
       "SHELTER ISLAND           1.0  180300.000000           NaN  180300.0   \n",
       "SHIRLEY                  7.0  159478.714286     49.724958  159404.0   \n",
       "SHOREHAM                 8.0  158481.750000    140.606594  158401.0   \n",
       "SMITHTOWN               47.0  139715.723404  11202.966745  112103.0   \n",
       "SOUTHAMPTON              5.0  190724.400000     42.276471  190704.0   \n",
       "SOUTHOLD                 3.0  170135.000000    115.182464  170002.0   \n",
       "WEST BABYLON             6.0  123085.000000    635.810664  122404.0   \n",
       "WEST SAYVILLE            7.0  147574.571429    432.777024  146608.0   \n",
       "WESTHAMPTON BEACH        4.0  190477.750000     50.506600  190402.0   \n",
       "WYANDANCH                3.0  122436.666667     55.734490  122403.0   \n",
       "\n",
       "                                                                  \n",
       "                              25%       50%        75%       max  \n",
       "PCSA_City                                                         \n",
       "AMITYVILLE              123301.25  123550.0  123701.75  123802.0  \n",
       "BABYLON                 123101.75  124550.5  146705.25  146901.0  \n",
       "BAY SHORE               145902.00  146106.0  146902.00  201100.0  \n",
       "BAYPORT                 147901.25  147901.5  147901.75  147902.0  \n",
       "CALVERTON               169701.00  169701.0  169701.00  169701.0  \n",
       "DEER PARK               122602.00  122705.0  122707.00  122802.0  \n",
       "EAST HAMPTON            200901.00  200902.0  201001.00  201003.0  \n",
       "EAST ISLIP              146403.00  146606.0  147501.00  147601.0  \n",
       "EAST MORICHES           159409.00  159412.0  159556.50  159602.0  \n",
       "EAST NORTHPORT          111801.00  111802.0  111803.00  111804.0  \n",
       "GREENPORT               170101.00  170101.0  170101.00  170101.0  \n",
       "HAMPTON BAYS            190551.50  190602.0  190603.25  190604.0  \n",
       "HUNTINGTON              110275.00  110451.5  110926.00  111900.0  \n",
       "HUNTINGTON STATION      111351.25  111505.5  112129.00  112214.0  \n",
       "LINDENHURST             123900.00  124002.0  124102.00  124402.0  \n",
       "MASSAPEQUA              122300.00  122300.0  122300.00  122300.0  \n",
       "MATTITUCK               169926.75  169951.5  169976.25  170001.0  \n",
       "MONTAUK                 201004.00  201004.0  201004.00  201004.0  \n",
       "NORTHPORT               110802.50  111601.5  111701.50  134703.0  \n",
       "PATCHOGUE               158779.50  159051.0  159107.25  159300.0  \n",
       "PORT JEFFERSON          158305.50  158317.5  158404.00  158711.0  \n",
       "PORT JEFFERSON STATION  158102.00  158112.0  158320.00  158606.0  \n",
       "RIVERHEAD               169703.25  169752.0  169875.75  190401.0  \n",
       "SHELTER ISLAND          180300.00  180300.0  180300.00  180300.0  \n",
       "SHIRLEY                 159456.50  159506.0  159508.50  159511.0  \n",
       "SHOREHAM                158404.25  158408.5  158484.75  158710.0  \n",
       "SMITHTOWN               135003.50  135301.0  146206.00  158609.0  \n",
       "SOUTHAMPTON             190705.00  190706.0  190707.00  190800.0  \n",
       "SOUTHOLD                170101.50  170201.0  170201.50  170202.0  \n",
       "WEST BABYLON            122901.25  122951.5  123001.75  124300.0  \n",
       "WEST SAYVILLE           147651.50  147702.0  147802.50  147804.0  \n",
       "WESTHAMPTON BEACH       190477.00  190502.5  190503.25  190504.0  \n",
       "WYANDANCH               122404.50  122406.0  122453.50  122501.0  "
      ]
     },
     "execution_count": 7,
     "metadata": {},
     "output_type": "execute_result"
    }
   ],
   "source": [
    "city_groups.describe()"
   ]
  },
  {
   "cell_type": "code",
   "execution_count": 8,
   "metadata": {},
   "outputs": [
    {
     "data": {
      "text/html": [
       "<div>\n",
       "<style>\n",
       "    .dataframe thead tr:only-child th {\n",
       "        text-align: right;\n",
       "    }\n",
       "\n",
       "    .dataframe thead th {\n",
       "        text-align: left;\n",
       "    }\n",
       "\n",
       "    .dataframe tbody tr th {\n",
       "        vertical-align: top;\n",
       "    }\n",
       "</style>\n",
       "<table border=\"1\" class=\"dataframe\">\n",
       "  <thead>\n",
       "    <tr style=\"text-align: right;\">\n",
       "      <th></th>\n",
       "      <th>TRACT</th>\n",
       "      <th>PCSA_City</th>\n",
       "      <th>Percent_Having_Emergency_Visit</th>\n",
       "    </tr>\n",
       "  </thead>\n",
       "  <tbody>\n",
       "    <tr>\n",
       "      <th>0</th>\n",
       "      <td>134703</td>\n",
       "      <td>NORTHPORT</td>\n",
       "      <td>18.7629</td>\n",
       "    </tr>\n",
       "    <tr>\n",
       "      <th>1</th>\n",
       "      <td>134903</td>\n",
       "      <td>SMITHTOWN</td>\n",
       "      <td>18.9394</td>\n",
       "    </tr>\n",
       "    <tr>\n",
       "      <th>2</th>\n",
       "      <td>158512</td>\n",
       "      <td>SMITHTOWN</td>\n",
       "      <td>19.1235</td>\n",
       "    </tr>\n",
       "    <tr>\n",
       "      <th>3</th>\n",
       "      <td>158203</td>\n",
       "      <td>PORT JEFFERSON STATION</td>\n",
       "      <td>19.4268</td>\n",
       "    </tr>\n",
       "    <tr>\n",
       "      <th>4</th>\n",
       "      <td>135403</td>\n",
       "      <td>SMITHTOWN</td>\n",
       "      <td>19.5876</td>\n",
       "    </tr>\n",
       "    <tr>\n",
       "      <th>5</th>\n",
       "      <td>122704</td>\n",
       "      <td>DEER PARK</td>\n",
       "      <td>19.7605</td>\n",
       "    </tr>\n",
       "    <tr>\n",
       "      <th>6</th>\n",
       "      <td>112211</td>\n",
       "      <td>SMITHTOWN</td>\n",
       "      <td>19.7628</td>\n",
       "    </tr>\n",
       "    <tr>\n",
       "      <th>7</th>\n",
       "      <td>112212</td>\n",
       "      <td>HUNTINGTON STATION</td>\n",
       "      <td>20.0000</td>\n",
       "    </tr>\n",
       "    <tr>\n",
       "      <th>8</th>\n",
       "      <td>146206</td>\n",
       "      <td>EAST ISLIP</td>\n",
       "      <td>20.1613</td>\n",
       "    </tr>\n",
       "    <tr>\n",
       "      <th>9</th>\n",
       "      <td>158508</td>\n",
       "      <td>PORT JEFFERSON STATION</td>\n",
       "      <td>20.2198</td>\n",
       "    </tr>\n",
       "  </tbody>\n",
       "</table>\n",
       "</div>"
      ],
      "text/plain": [
       "    TRACT               PCSA_City  Percent_Having_Emergency_Visit\n",
       "0  134703               NORTHPORT                         18.7629\n",
       "1  134903               SMITHTOWN                         18.9394\n",
       "2  158512               SMITHTOWN                         19.1235\n",
       "3  158203  PORT JEFFERSON STATION                         19.4268\n",
       "4  135403               SMITHTOWN                         19.5876\n",
       "5  122704               DEER PARK                         19.7605\n",
       "6  112211               SMITHTOWN                         19.7628\n",
       "7  112212      HUNTINGTON STATION                         20.0000\n",
       "8  146206              EAST ISLIP                         20.1613\n",
       "9  158508  PORT JEFFERSON STATION                         20.2198"
      ]
     },
     "execution_count": 8,
     "metadata": {},
     "output_type": "execute_result"
    }
   ],
   "source": [
    "tract_frame.head(10)"
   ]
  },
  {
   "cell_type": "code",
   "execution_count": 9,
   "metadata": {},
   "outputs": [
    {
     "data": {
      "text/plain": [
       "(321, 3)"
      ]
     },
     "execution_count": 9,
     "metadata": {},
     "output_type": "execute_result"
    }
   ],
   "source": [
    "tract_frame.shape"
   ]
  },
  {
   "cell_type": "code",
   "execution_count": 12,
   "metadata": {},
   "outputs": [
    {
     "data": {
      "text/plain": [
       "(7, 3)"
      ]
     },
     "execution_count": 12,
     "metadata": {},
     "output_type": "execute_result"
    }
   ],
   "source": [
    "new_frame = tract_frame[tract_frame.Percent_Having_Emergency_Visit < 20]\n",
    "new_frame.shape"
   ]
  },
  {
   "cell_type": "code",
   "execution_count": 13,
   "metadata": {},
   "outputs": [
    {
     "data": {
      "text/html": [
       "<div>\n",
       "<style>\n",
       "    .dataframe thead tr:only-child th {\n",
       "        text-align: right;\n",
       "    }\n",
       "\n",
       "    .dataframe thead th {\n",
       "        text-align: left;\n",
       "    }\n",
       "\n",
       "    .dataframe tbody tr th {\n",
       "        vertical-align: top;\n",
       "    }\n",
       "</style>\n",
       "<table border=\"1\" class=\"dataframe\">\n",
       "  <thead>\n",
       "    <tr style=\"text-align: right;\">\n",
       "      <th></th>\n",
       "      <th>TRACT</th>\n",
       "      <th>PCSA_City</th>\n",
       "      <th>Percent_Having_Emergency_Visit</th>\n",
       "    </tr>\n",
       "  </thead>\n",
       "  <tbody>\n",
       "    <tr>\n",
       "      <th>0</th>\n",
       "      <td>134703</td>\n",
       "      <td>NORTHPORT</td>\n",
       "      <td>18.7629</td>\n",
       "    </tr>\n",
       "    <tr>\n",
       "      <th>1</th>\n",
       "      <td>134903</td>\n",
       "      <td>SMITHTOWN</td>\n",
       "      <td>18.9394</td>\n",
       "    </tr>\n",
       "    <tr>\n",
       "      <th>2</th>\n",
       "      <td>158512</td>\n",
       "      <td>SMITHTOWN</td>\n",
       "      <td>19.1235</td>\n",
       "    </tr>\n",
       "    <tr>\n",
       "      <th>3</th>\n",
       "      <td>158203</td>\n",
       "      <td>PORT JEFFERSON STATION</td>\n",
       "      <td>19.4268</td>\n",
       "    </tr>\n",
       "    <tr>\n",
       "      <th>4</th>\n",
       "      <td>135403</td>\n",
       "      <td>SMITHTOWN</td>\n",
       "      <td>19.5876</td>\n",
       "    </tr>\n",
       "    <tr>\n",
       "      <th>5</th>\n",
       "      <td>122704</td>\n",
       "      <td>DEER PARK</td>\n",
       "      <td>19.7605</td>\n",
       "    </tr>\n",
       "    <tr>\n",
       "      <th>6</th>\n",
       "      <td>112211</td>\n",
       "      <td>SMITHTOWN</td>\n",
       "      <td>19.7628</td>\n",
       "    </tr>\n",
       "  </tbody>\n",
       "</table>\n",
       "</div>"
      ],
      "text/plain": [
       "    TRACT               PCSA_City  Percent_Having_Emergency_Visit\n",
       "0  134703               NORTHPORT                         18.7629\n",
       "1  134903               SMITHTOWN                         18.9394\n",
       "2  158512               SMITHTOWN                         19.1235\n",
       "3  158203  PORT JEFFERSON STATION                         19.4268\n",
       "4  135403               SMITHTOWN                         19.5876\n",
       "5  122704               DEER PARK                         19.7605\n",
       "6  112211               SMITHTOWN                         19.7628"
      ]
     },
     "execution_count": 13,
     "metadata": {},
     "output_type": "execute_result"
    }
   ],
   "source": [
    "new_frame"
   ]
  },
  {
   "cell_type": "code",
   "execution_count": 15,
   "metadata": {
    "collapsed": true
   },
   "outputs": [],
   "source": [
    "new_frame.to_csv('new_frame.csv',index=False)"
   ]
  },
  {
   "cell_type": "markdown",
   "metadata": {},
   "source": [
    "### Pickle & JSON"
   ]
  },
  {
   "cell_type": "markdown",
   "metadata": {},
   "source": [
    "#### Let's use one of our dictionaries."
   ]
  },
  {
   "cell_type": "code",
   "execution_count": 45,
   "metadata": {
    "collapsed": true
   },
   "outputs": [],
   "source": [
    "# First, we'll write it to a file.\n",
    "with open('my_pickled_dict', 'wb') as f:\n",
    "    pickle.dump(new_dict,f)"
   ]
  },
  {
   "cell_type": "markdown",
   "metadata": {},
   "source": [
    "#### Looking for that file..."
   ]
  },
  {
   "cell_type": "code",
   "execution_count": 34,
   "metadata": {
    "collapsed": true
   },
   "outputs": [],
   "source": [
    "# Now, we'll load it back in.\n",
    "with open('my_pickled_dict','rb') as f:\n",
    "    old_dict = pickle.load(f)"
   ]
  },
  {
   "cell_type": "code",
   "execution_count": 35,
   "metadata": {},
   "outputs": [
    {
     "data": {
      "text/plain": [
       "{'one': 3, 'three': <function __main__.meta_func>, 'two': 'a'}"
      ]
     },
     "execution_count": 35,
     "metadata": {},
     "output_type": "execute_result"
    }
   ],
   "source": [
    "old_dict"
   ]
  },
  {
   "cell_type": "code",
   "execution_count": 37,
   "metadata": {
    "collapsed": true
   },
   "outputs": [],
   "source": [
    "# Recovering the function...\n",
    "that_func = old_dict['three']"
   ]
  },
  {
   "cell_type": "code",
   "execution_count": 38,
   "metadata": {
    "collapsed": true
   },
   "outputs": [],
   "source": [
    "final_func = that_func(4)"
   ]
  },
  {
   "cell_type": "code",
   "execution_count": 39,
   "metadata": {},
   "outputs": [
    {
     "data": {
      "text/plain": [
       "4"
      ]
     },
     "execution_count": 39,
     "metadata": {},
     "output_type": "execute_result"
    }
   ],
   "source": [
    "final_func(1)"
   ]
  },
  {
   "cell_type": "markdown",
   "metadata": {},
   "source": [
    "#### Now, with JSON"
   ]
  },
  {
   "cell_type": "code",
   "execution_count": 47,
   "metadata": {},
   "outputs": [
    {
     "ename": "TypeError",
     "evalue": "Object of type 'function' is not JSON serializable",
     "output_type": "error",
     "traceback": [
      "\u001b[0;31m---------------------------------------------------------------------------\u001b[0m",
      "\u001b[0;31mTypeError\u001b[0m                                 Traceback (most recent call last)",
      "\u001b[0;32m<ipython-input-47-1e3a7c36f35b>\u001b[0m in \u001b[0;36m<module>\u001b[0;34m()\u001b[0m\n\u001b[1;32m      1\u001b[0m \u001b[0;32mwith\u001b[0m \u001b[0mopen\u001b[0m\u001b[0;34m(\u001b[0m\u001b[0;34m'json_dict'\u001b[0m\u001b[0;34m,\u001b[0m\u001b[0;34m'w'\u001b[0m\u001b[0;34m)\u001b[0m \u001b[0;32mas\u001b[0m \u001b[0mf\u001b[0m\u001b[0;34m:\u001b[0m\u001b[0;34m\u001b[0m\u001b[0m\n\u001b[0;32m----> 2\u001b[0;31m     \u001b[0mjson\u001b[0m\u001b[0;34m.\u001b[0m\u001b[0mdump\u001b[0m\u001b[0;34m(\u001b[0m\u001b[0mold_dict\u001b[0m\u001b[0;34m,\u001b[0m\u001b[0mf\u001b[0m\u001b[0;34m)\u001b[0m\u001b[0;34m\u001b[0m\u001b[0m\n\u001b[0m",
      "\u001b[0;32m~/anaconda3/lib/python3.6/json/__init__.py\u001b[0m in \u001b[0;36mdump\u001b[0;34m(obj, fp, skipkeys, ensure_ascii, check_circular, allow_nan, cls, indent, separators, default, sort_keys, **kw)\u001b[0m\n\u001b[1;32m    177\u001b[0m     \u001b[0;31m# could accelerate with writelines in some versions of Python, at\u001b[0m\u001b[0;34m\u001b[0m\u001b[0;34m\u001b[0m\u001b[0m\n\u001b[1;32m    178\u001b[0m     \u001b[0;31m# a debuggability cost\u001b[0m\u001b[0;34m\u001b[0m\u001b[0;34m\u001b[0m\u001b[0m\n\u001b[0;32m--> 179\u001b[0;31m     \u001b[0;32mfor\u001b[0m \u001b[0mchunk\u001b[0m \u001b[0;32min\u001b[0m \u001b[0miterable\u001b[0m\u001b[0;34m:\u001b[0m\u001b[0;34m\u001b[0m\u001b[0m\n\u001b[0m\u001b[1;32m    180\u001b[0m         \u001b[0mfp\u001b[0m\u001b[0;34m.\u001b[0m\u001b[0mwrite\u001b[0m\u001b[0;34m(\u001b[0m\u001b[0mchunk\u001b[0m\u001b[0;34m)\u001b[0m\u001b[0;34m\u001b[0m\u001b[0m\n\u001b[1;32m    181\u001b[0m \u001b[0;34m\u001b[0m\u001b[0m\n",
      "\u001b[0;32m~/anaconda3/lib/python3.6/json/encoder.py\u001b[0m in \u001b[0;36m_iterencode\u001b[0;34m(o, _current_indent_level)\u001b[0m\n\u001b[1;32m    428\u001b[0m             \u001b[0;32myield\u001b[0m \u001b[0;32mfrom\u001b[0m \u001b[0m_iterencode_list\u001b[0m\u001b[0;34m(\u001b[0m\u001b[0mo\u001b[0m\u001b[0;34m,\u001b[0m \u001b[0m_current_indent_level\u001b[0m\u001b[0;34m)\u001b[0m\u001b[0;34m\u001b[0m\u001b[0m\n\u001b[1;32m    429\u001b[0m         \u001b[0;32melif\u001b[0m \u001b[0misinstance\u001b[0m\u001b[0;34m(\u001b[0m\u001b[0mo\u001b[0m\u001b[0;34m,\u001b[0m \u001b[0mdict\u001b[0m\u001b[0;34m)\u001b[0m\u001b[0;34m:\u001b[0m\u001b[0;34m\u001b[0m\u001b[0m\n\u001b[0;32m--> 430\u001b[0;31m             \u001b[0;32myield\u001b[0m \u001b[0;32mfrom\u001b[0m \u001b[0m_iterencode_dict\u001b[0m\u001b[0;34m(\u001b[0m\u001b[0mo\u001b[0m\u001b[0;34m,\u001b[0m \u001b[0m_current_indent_level\u001b[0m\u001b[0;34m)\u001b[0m\u001b[0;34m\u001b[0m\u001b[0m\n\u001b[0m\u001b[1;32m    431\u001b[0m         \u001b[0;32melse\u001b[0m\u001b[0;34m:\u001b[0m\u001b[0;34m\u001b[0m\u001b[0m\n\u001b[1;32m    432\u001b[0m             \u001b[0;32mif\u001b[0m \u001b[0mmarkers\u001b[0m \u001b[0;32mis\u001b[0m \u001b[0;32mnot\u001b[0m \u001b[0;32mNone\u001b[0m\u001b[0;34m:\u001b[0m\u001b[0;34m\u001b[0m\u001b[0m\n",
      "\u001b[0;32m~/anaconda3/lib/python3.6/json/encoder.py\u001b[0m in \u001b[0;36m_iterencode_dict\u001b[0;34m(dct, _current_indent_level)\u001b[0m\n\u001b[1;32m    402\u001b[0m                 \u001b[0;32melse\u001b[0m\u001b[0;34m:\u001b[0m\u001b[0;34m\u001b[0m\u001b[0m\n\u001b[1;32m    403\u001b[0m                     \u001b[0mchunks\u001b[0m \u001b[0;34m=\u001b[0m \u001b[0m_iterencode\u001b[0m\u001b[0;34m(\u001b[0m\u001b[0mvalue\u001b[0m\u001b[0;34m,\u001b[0m \u001b[0m_current_indent_level\u001b[0m\u001b[0;34m)\u001b[0m\u001b[0;34m\u001b[0m\u001b[0m\n\u001b[0;32m--> 404\u001b[0;31m                 \u001b[0;32myield\u001b[0m \u001b[0;32mfrom\u001b[0m \u001b[0mchunks\u001b[0m\u001b[0;34m\u001b[0m\u001b[0m\n\u001b[0m\u001b[1;32m    405\u001b[0m         \u001b[0;32mif\u001b[0m \u001b[0mnewline_indent\u001b[0m \u001b[0;32mis\u001b[0m \u001b[0;32mnot\u001b[0m \u001b[0;32mNone\u001b[0m\u001b[0;34m:\u001b[0m\u001b[0;34m\u001b[0m\u001b[0m\n\u001b[1;32m    406\u001b[0m             \u001b[0m_current_indent_level\u001b[0m \u001b[0;34m-=\u001b[0m \u001b[0;36m1\u001b[0m\u001b[0;34m\u001b[0m\u001b[0m\n",
      "\u001b[0;32m~/anaconda3/lib/python3.6/json/encoder.py\u001b[0m in \u001b[0;36m_iterencode\u001b[0;34m(o, _current_indent_level)\u001b[0m\n\u001b[1;32m    435\u001b[0m                     \u001b[0;32mraise\u001b[0m \u001b[0mValueError\u001b[0m\u001b[0;34m(\u001b[0m\u001b[0;34m\"Circular reference detected\"\u001b[0m\u001b[0;34m)\u001b[0m\u001b[0;34m\u001b[0m\u001b[0m\n\u001b[1;32m    436\u001b[0m                 \u001b[0mmarkers\u001b[0m\u001b[0;34m[\u001b[0m\u001b[0mmarkerid\u001b[0m\u001b[0;34m]\u001b[0m \u001b[0;34m=\u001b[0m \u001b[0mo\u001b[0m\u001b[0;34m\u001b[0m\u001b[0m\n\u001b[0;32m--> 437\u001b[0;31m             \u001b[0mo\u001b[0m \u001b[0;34m=\u001b[0m \u001b[0m_default\u001b[0m\u001b[0;34m(\u001b[0m\u001b[0mo\u001b[0m\u001b[0;34m)\u001b[0m\u001b[0;34m\u001b[0m\u001b[0m\n\u001b[0m\u001b[1;32m    438\u001b[0m             \u001b[0;32myield\u001b[0m \u001b[0;32mfrom\u001b[0m \u001b[0m_iterencode\u001b[0m\u001b[0;34m(\u001b[0m\u001b[0mo\u001b[0m\u001b[0;34m,\u001b[0m \u001b[0m_current_indent_level\u001b[0m\u001b[0;34m)\u001b[0m\u001b[0;34m\u001b[0m\u001b[0m\n\u001b[1;32m    439\u001b[0m             \u001b[0;32mif\u001b[0m \u001b[0mmarkers\u001b[0m \u001b[0;32mis\u001b[0m \u001b[0;32mnot\u001b[0m \u001b[0;32mNone\u001b[0m\u001b[0;34m:\u001b[0m\u001b[0;34m\u001b[0m\u001b[0m\n",
      "\u001b[0;32m~/anaconda3/lib/python3.6/json/encoder.py\u001b[0m in \u001b[0;36mdefault\u001b[0;34m(self, o)\u001b[0m\n\u001b[1;32m    178\u001b[0m         \"\"\"\n\u001b[1;32m    179\u001b[0m         raise TypeError(\"Object of type '%s' is not JSON serializable\" %\n\u001b[0;32m--> 180\u001b[0;31m                         o.__class__.__name__)\n\u001b[0m\u001b[1;32m    181\u001b[0m \u001b[0;34m\u001b[0m\u001b[0m\n\u001b[1;32m    182\u001b[0m     \u001b[0;32mdef\u001b[0m \u001b[0mencode\u001b[0m\u001b[0;34m(\u001b[0m\u001b[0mself\u001b[0m\u001b[0;34m,\u001b[0m \u001b[0mo\u001b[0m\u001b[0;34m)\u001b[0m\u001b[0;34m:\u001b[0m\u001b[0;34m\u001b[0m\u001b[0m\n",
      "\u001b[0;31mTypeError\u001b[0m: Object of type 'function' is not JSON serializable"
     ]
    }
   ],
   "source": [
    "with open('json_dict','w') as f:\n",
    "    json.dump(old_dict,f)"
   ]
  },
  {
   "cell_type": "code",
   "execution_count": 48,
   "metadata": {
    "collapsed": true
   },
   "outputs": [],
   "source": [
    "del old_dict['three']"
   ]
  },
  {
   "cell_type": "code",
   "execution_count": 49,
   "metadata": {},
   "outputs": [
    {
     "data": {
      "text/plain": [
       "{'one': 3, 'two': 'a'}"
      ]
     },
     "execution_count": 49,
     "metadata": {},
     "output_type": "execute_result"
    }
   ],
   "source": [
    "old_dict"
   ]
  },
  {
   "cell_type": "code",
   "execution_count": 50,
   "metadata": {
    "collapsed": true
   },
   "outputs": [],
   "source": [
    "with open('json_dict','w') as f:\n",
    "    json.dump(old_dict,f)"
   ]
  },
  {
   "cell_type": "code",
   "execution_count": 51,
   "metadata": {
    "collapsed": true
   },
   "outputs": [],
   "source": [
    "with open('json_dict','r') as f:\n",
    "    last_dict = json.load(f)"
   ]
  },
  {
   "cell_type": "code",
   "execution_count": 52,
   "metadata": {},
   "outputs": [
    {
     "data": {
      "text/plain": [
       "{'one': 3, 'two': 'a'}"
      ]
     },
     "execution_count": 52,
     "metadata": {},
     "output_type": "execute_result"
    }
   ],
   "source": [
    "last_dict"
   ]
  },
  {
   "cell_type": "markdown",
   "metadata": {},
   "source": [
    "## Execution"
   ]
  },
  {
   "cell_type": "code",
   "execution_count": 71,
   "metadata": {},
   "outputs": [
    {
     "name": "stdout",
     "output_type": "stream",
     "text": [
      "['print(\"Hello, World!\")\\n']\n"
     ]
    }
   ],
   "source": [
    "# Let's see what's in \"a_line_of_python.py\"\n",
    "with open('a_line_of_python.txt','r') as f:\n",
    "    contents = f.readlines()\n",
    "print(contents)"
   ]
  },
  {
   "cell_type": "code",
   "execution_count": 76,
   "metadata": {},
   "outputs": [
    {
     "name": "stdout",
     "output_type": "stream",
     "text": [
      "Hello, World!\n"
     ]
    }
   ],
   "source": [
    "# Now, let's run that single line\n",
    "with open('a_line_of_python.txt','r') as f:\n",
    "    exec(f.read())"
   ]
  },
  {
   "cell_type": "code",
   "execution_count": null,
   "metadata": {
    "collapsed": true
   },
   "outputs": [],
   "source": [
    "# Exercise: complete the function below.\n",
    "\n",
    "def first_and_last(file_name):\n",
    "    \"\"\"file_name is a string recording\n",
    "    the name of a file. This function\n",
    "    returns the first and last lines of\n",
    "    that file, concatenated in a single\n",
    "    string.\"\"\"\n",
    "    \n",
    "    # your code here\n",
    "    \n",
    "    return first_line + \"...\" + last_line"
   ]
  },
  {
   "cell_type": "markdown",
   "metadata": {},
   "source": [
    "## Modules"
   ]
  },
  {
   "cell_type": "markdown",
   "metadata": {},
   "source": [
    "### Recall the plotting notebook we saw last week. See that for examples of importing modules."
   ]
  },
  {
   "cell_type": "markdown",
   "metadata": {},
   "source": [
    "## Standard Library"
   ]
  },
  {
   "cell_type": "markdown",
   "metadata": {
    "collapsed": true
   },
   "source": [
    "### Go [check it out](https://docs.python.org/3/library/index.html)."
   ]
  },
  {
   "cell_type": "markdown",
   "metadata": {},
   "source": [
    "## Bokeh Server"
   ]
  },
  {
   "cell_type": "markdown",
   "metadata": {},
   "source": [
    "### We already saw plotting. Our plots had a zoom function, and were downloadable, but that's about it. We want to run python code in response to events in the browser.\n",
    "\n",
    "### Bokeh Server lets us do this!"
   ]
  }
 ],
 "metadata": {
  "kernelspec": {
   "display_name": "Python 3",
   "language": "python",
   "name": "python3"
  },
  "language_info": {
   "codemirror_mode": {
    "name": "ipython",
    "version": 3
   },
   "file_extension": ".py",
   "mimetype": "text/x-python",
   "name": "python",
   "nbconvert_exporter": "python",
   "pygments_lexer": "ipython3",
   "version": "3.6.4"
  }
 },
 "nbformat": 4,
 "nbformat_minor": 2
}
